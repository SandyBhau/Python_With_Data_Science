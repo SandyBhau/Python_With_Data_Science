{
 "cells": [
  {
   "cell_type": "code",
   "execution_count": 5,
   "metadata": {},
   "outputs": [],
   "source": [
    "import pandas as pd\n",
    "import numpy as np"
   ]
  },
  {
   "cell_type": "code",
   "execution_count": 6,
   "metadata": {},
   "outputs": [],
   "source": [
    "SampleData = pd.read_excel('Sample_Data.xlsx')"
   ]
  },
  {
   "cell_type": "code",
   "execution_count": 7,
   "metadata": {},
   "outputs": [
    {
     "data": {
      "text/html": [
       "<div>\n",
       "<style scoped>\n",
       "    .dataframe tbody tr th:only-of-type {\n",
       "        vertical-align: middle;\n",
       "    }\n",
       "\n",
       "    .dataframe tbody tr th {\n",
       "        vertical-align: top;\n",
       "    }\n",
       "\n",
       "    .dataframe thead th {\n",
       "        text-align: right;\n",
       "    }\n",
       "</style>\n",
       "<table border=\"1\" class=\"dataframe\">\n",
       "  <thead>\n",
       "    <tr style=\"text-align: right;\">\n",
       "      <th></th>\n",
       "      <th>OBJECT</th>\n",
       "      <th>INTERNAL_CHAR_NO</th>\n",
       "      <th>Character No Description</th>\n",
       "      <th>CHARACTERISTIC_VALUE</th>\n",
       "      <th>Value Description</th>\n",
       "      <th>Value Description 1</th>\n",
       "      <th>Value Description 2</th>\n",
       "      <th>SORT</th>\n",
       "      <th>VALUE_ASSIGNMENT_TYPE</th>\n",
       "      <th>VAT Description</th>\n",
       "      <th>SPECIFICATION</th>\n",
       "      <th>SPEC_TYPE</th>\n",
       "      <th>AUTHORIZATION_GROUP</th>\n",
       "      <th>RECN_ESTVA</th>\n",
       "      <th>AENNR_ESTVA</th>\n",
       "      <th>RECNROOT_ESTVH</th>\n",
       "    </tr>\n",
       "  </thead>\n",
       "  <tbody>\n",
       "    <tr>\n",
       "      <th>0</th>\n",
       "      <td>0000000000000082026500000000000000000000</td>\n",
       "      <td>ZPLM_43170_450</td>\n",
       "      <td>Typical/100g</td>\n",
       "      <td>53.000000</td>\n",
       "      <td>-</td>\n",
       "      <td>NaN</td>\n",
       "      <td>NaN</td>\n",
       "      <td>1</td>\n",
       "      <td>ZPLM_43170</td>\n",
       "      <td>Added Sugars</td>\n",
       "      <td>100000000694</td>\n",
       "      <td>ZING_CHOLT</td>\n",
       "      <td>ZFOD</td>\n",
       "      <td>820265</td>\n",
       "      <td></td>\n",
       "      <td>819682</td>\n",
       "    </tr>\n",
       "    <tr>\n",
       "      <th>1</th>\n",
       "      <td>0000000000000082026500000000000000000000</td>\n",
       "      <td>ZPLM_43170_050</td>\n",
       "      <td>UoM</td>\n",
       "      <td>G</td>\n",
       "      <td>-</td>\n",
       "      <td>G</td>\n",
       "      <td>NaN</td>\n",
       "      <td>1</td>\n",
       "      <td>ZPLM_43170</td>\n",
       "      <td>Added Sugars</td>\n",
       "      <td>100000000694</td>\n",
       "      <td>ZING_CHOLT</td>\n",
       "      <td>ZFOD</td>\n",
       "      <td>820265</td>\n",
       "      <td></td>\n",
       "      <td>819682</td>\n",
       "    </tr>\n",
       "    <tr>\n",
       "      <th>2</th>\n",
       "      <td>0000000000000365570000000000000024674920</td>\n",
       "      <td>ZPLM_23410_050</td>\n",
       "      <td>UoM</td>\n",
       "      <td>KJ</td>\n",
       "      <td>-</td>\n",
       "      <td>KJ</td>\n",
       "      <td>NaN</td>\n",
       "      <td>1</td>\n",
       "      <td>ZPLM_23410</td>\n",
       "      <td>Energy kJ</td>\n",
       "      <td>100000011449</td>\n",
       "      <td>ZING_CHOLT</td>\n",
       "      <td>ZFOD</td>\n",
       "      <td>3655700</td>\n",
       "      <td>300001910587</td>\n",
       "      <td>3654616</td>\n",
       "    </tr>\n",
       "    <tr>\n",
       "      <th>3</th>\n",
       "      <td>0000000000000570790400000000000000000000</td>\n",
       "      <td>ZPLM_23410_050</td>\n",
       "      <td>UoM</td>\n",
       "      <td>KJ</td>\n",
       "      <td>-</td>\n",
       "      <td>KJ</td>\n",
       "      <td>NaN</td>\n",
       "      <td>1</td>\n",
       "      <td>ZPLM_23410</td>\n",
       "      <td>Energy kJ</td>\n",
       "      <td>100000017060</td>\n",
       "      <td>ZING_CHOLT</td>\n",
       "      <td>ZFOD</td>\n",
       "      <td>5707904</td>\n",
       "      <td></td>\n",
       "      <td>5702506</td>\n",
       "    </tr>\n",
       "    <tr>\n",
       "      <th>4</th>\n",
       "      <td>0000000000000235886800000000000030701765</td>\n",
       "      <td>ZPLM_23530_050</td>\n",
       "      <td>UoM</td>\n",
       "      <td>G</td>\n",
       "      <td>-</td>\n",
       "      <td>G</td>\n",
       "      <td>NaN</td>\n",
       "      <td>1</td>\n",
       "      <td>ZPLM_23530</td>\n",
       "      <td>Fibre Dietary</td>\n",
       "      <td>100000006555</td>\n",
       "      <td>ZING_CHOLT</td>\n",
       "      <td>ZFOD</td>\n",
       "      <td>2358868</td>\n",
       "      <td>300002075048</td>\n",
       "      <td>2358453</td>\n",
       "    </tr>\n",
       "  </tbody>\n",
       "</table>\n",
       "</div>"
      ],
      "text/plain": [
       "                                     OBJECT INTERNAL_CHAR_NO  \\\n",
       "0  0000000000000082026500000000000000000000   ZPLM_43170_450   \n",
       "1  0000000000000082026500000000000000000000   ZPLM_43170_050   \n",
       "2  0000000000000365570000000000000024674920   ZPLM_23410_050   \n",
       "3  0000000000000570790400000000000000000000   ZPLM_23410_050   \n",
       "4  0000000000000235886800000000000030701765   ZPLM_23530_050   \n",
       "\n",
       "  Character No Description CHARACTERISTIC_VALUE Value Description  \\\n",
       "0             Typical/100g            53.000000                 -   \n",
       "1                      UoM                    G                 -   \n",
       "2                      UoM                   KJ                 -   \n",
       "3                      UoM                   KJ                 -   \n",
       "4                      UoM                    G                 -   \n",
       "\n",
       "  Value Description 1 Value Description 2  SORT VALUE_ASSIGNMENT_TYPE  \\\n",
       "0                 NaN                 NaN     1            ZPLM_43170   \n",
       "1                   G                 NaN     1            ZPLM_43170   \n",
       "2                  KJ                 NaN     1            ZPLM_23410   \n",
       "3                  KJ                 NaN     1            ZPLM_23410   \n",
       "4                   G                 NaN     1            ZPLM_23530   \n",
       "\n",
       "  VAT Description  SPECIFICATION   SPEC_TYPE AUTHORIZATION_GROUP  RECN_ESTVA  \\\n",
       "0    Added Sugars   100000000694  ZING_CHOLT                ZFOD      820265   \n",
       "1    Added Sugars   100000000694  ZING_CHOLT                ZFOD      820265   \n",
       "2       Energy kJ   100000011449  ZING_CHOLT                ZFOD     3655700   \n",
       "3       Energy kJ   100000017060  ZING_CHOLT                ZFOD     5707904   \n",
       "4   Fibre Dietary   100000006555  ZING_CHOLT                ZFOD     2358868   \n",
       "\n",
       "    AENNR_ESTVA  RECNROOT_ESTVH  \n",
       "0                        819682  \n",
       "1                        819682  \n",
       "2  300001910587         3654616  \n",
       "3                       5702506  \n",
       "4  300002075048         2358453  "
      ]
     },
     "execution_count": 7,
     "metadata": {},
     "output_type": "execute_result"
    }
   ],
   "source": [
    "SampleData.head()"
   ]
  },
  {
   "cell_type": "code",
   "execution_count": 8,
   "metadata": {},
   "outputs": [],
   "source": [
    "AddedSugar = SampleData[(SampleData['VAT Description'] == 'Added Sugars') & (SampleData['Character No Description'] == 'Typical/100g')]"
   ]
  },
  {
   "cell_type": "code",
   "execution_count": 9,
   "metadata": {},
   "outputs": [
    {
     "data": {
      "text/html": [
       "<div>\n",
       "<style scoped>\n",
       "    .dataframe tbody tr th:only-of-type {\n",
       "        vertical-align: middle;\n",
       "    }\n",
       "\n",
       "    .dataframe tbody tr th {\n",
       "        vertical-align: top;\n",
       "    }\n",
       "\n",
       "    .dataframe thead th {\n",
       "        text-align: right;\n",
       "    }\n",
       "</style>\n",
       "<table border=\"1\" class=\"dataframe\">\n",
       "  <thead>\n",
       "    <tr style=\"text-align: right;\">\n",
       "      <th></th>\n",
       "      <th>OBJECT</th>\n",
       "      <th>INTERNAL_CHAR_NO</th>\n",
       "      <th>Character No Description</th>\n",
       "      <th>CHARACTERISTIC_VALUE</th>\n",
       "      <th>Value Description</th>\n",
       "      <th>Value Description 1</th>\n",
       "      <th>Value Description 2</th>\n",
       "      <th>SORT</th>\n",
       "      <th>VALUE_ASSIGNMENT_TYPE</th>\n",
       "      <th>VAT Description</th>\n",
       "      <th>SPECIFICATION</th>\n",
       "      <th>SPEC_TYPE</th>\n",
       "      <th>AUTHORIZATION_GROUP</th>\n",
       "      <th>RECN_ESTVA</th>\n",
       "      <th>AENNR_ESTVA</th>\n",
       "      <th>RECNROOT_ESTVH</th>\n",
       "    </tr>\n",
       "  </thead>\n",
       "  <tbody>\n",
       "    <tr>\n",
       "      <th>0</th>\n",
       "      <td>0000000000000082026500000000000000000000</td>\n",
       "      <td>ZPLM_43170_450</td>\n",
       "      <td>Typical/100g</td>\n",
       "      <td>53.000000</td>\n",
       "      <td>-</td>\n",
       "      <td>NaN</td>\n",
       "      <td>NaN</td>\n",
       "      <td>1</td>\n",
       "      <td>ZPLM_43170</td>\n",
       "      <td>Added Sugars</td>\n",
       "      <td>100000000694</td>\n",
       "      <td>ZING_CHOLT</td>\n",
       "      <td>ZFOD</td>\n",
       "      <td>820265</td>\n",
       "      <td></td>\n",
       "      <td>819682</td>\n",
       "    </tr>\n",
       "    <tr>\n",
       "      <th>18</th>\n",
       "      <td>0000000000000235888600000000000030701811</td>\n",
       "      <td>ZPLM_43170_450</td>\n",
       "      <td>Typical/100g</td>\n",
       "      <td>49.500000</td>\n",
       "      <td>-</td>\n",
       "      <td>NaN</td>\n",
       "      <td>NaN</td>\n",
       "      <td>1</td>\n",
       "      <td>ZPLM_43170</td>\n",
       "      <td>Added Sugars</td>\n",
       "      <td>100000006555</td>\n",
       "      <td>ZING_CHOLT</td>\n",
       "      <td>ZFOD</td>\n",
       "      <td>2358886</td>\n",
       "      <td>300002075048</td>\n",
       "      <td>2358453</td>\n",
       "    </tr>\n",
       "    <tr>\n",
       "      <th>97</th>\n",
       "      <td>0000000000000570291600000000000000000000</td>\n",
       "      <td>ZPLM_43170_450</td>\n",
       "      <td>Typical/100g</td>\n",
       "      <td>53.000000</td>\n",
       "      <td>-</td>\n",
       "      <td>NaN</td>\n",
       "      <td>NaN</td>\n",
       "      <td>1</td>\n",
       "      <td>ZPLM_43170</td>\n",
       "      <td>Added Sugars</td>\n",
       "      <td>100000017060</td>\n",
       "      <td>ZING_CHOLT</td>\n",
       "      <td>ZFOD</td>\n",
       "      <td>5702916</td>\n",
       "      <td></td>\n",
       "      <td>5702506</td>\n",
       "    </tr>\n",
       "    <tr>\n",
       "      <th>127</th>\n",
       "      <td>0000000000003041486900000000000000000000</td>\n",
       "      <td>ZPLM_43170_450</td>\n",
       "      <td>Typical/100g</td>\n",
       "      <td>0.000000</td>\n",
       "      <td>-</td>\n",
       "      <td>NaN</td>\n",
       "      <td>NaN</td>\n",
       "      <td>1</td>\n",
       "      <td>ZPLM_43170</td>\n",
       "      <td>Added Sugars</td>\n",
       "      <td>100000031487</td>\n",
       "      <td>ZING_COCOP</td>\n",
       "      <td>ZFOD</td>\n",
       "      <td>30414869</td>\n",
       "      <td></td>\n",
       "      <td>30414282</td>\n",
       "    </tr>\n",
       "    <tr>\n",
       "      <th>162</th>\n",
       "      <td>0000000000008929163500000000000010989870</td>\n",
       "      <td>ZPLM_43170_450</td>\n",
       "      <td>Typical/100g</td>\n",
       "      <td>47.500000</td>\n",
       "      <td>-</td>\n",
       "      <td>NaN</td>\n",
       "      <td>NaN</td>\n",
       "      <td>1</td>\n",
       "      <td>ZPLM_43170</td>\n",
       "      <td>Added Sugars</td>\n",
       "      <td>100000040141</td>\n",
       "      <td>ZING_CHOLT</td>\n",
       "      <td>ZFOD</td>\n",
       "      <td>89291635</td>\n",
       "      <td>300000657398</td>\n",
       "      <td>89291495</td>\n",
       "    </tr>\n",
       "  </tbody>\n",
       "</table>\n",
       "</div>"
      ],
      "text/plain": [
       "                                       OBJECT INTERNAL_CHAR_NO  \\\n",
       "0    0000000000000082026500000000000000000000   ZPLM_43170_450   \n",
       "18   0000000000000235888600000000000030701811   ZPLM_43170_450   \n",
       "97   0000000000000570291600000000000000000000   ZPLM_43170_450   \n",
       "127  0000000000003041486900000000000000000000   ZPLM_43170_450   \n",
       "162  0000000000008929163500000000000010989870   ZPLM_43170_450   \n",
       "\n",
       "    Character No Description CHARACTERISTIC_VALUE Value Description  \\\n",
       "0               Typical/100g            53.000000                 -   \n",
       "18              Typical/100g            49.500000                 -   \n",
       "97              Typical/100g            53.000000                 -   \n",
       "127             Typical/100g             0.000000                 -   \n",
       "162             Typical/100g            47.500000                 -   \n",
       "\n",
       "    Value Description 1 Value Description 2  SORT VALUE_ASSIGNMENT_TYPE  \\\n",
       "0                   NaN                 NaN     1            ZPLM_43170   \n",
       "18                  NaN                 NaN     1            ZPLM_43170   \n",
       "97                  NaN                 NaN     1            ZPLM_43170   \n",
       "127                 NaN                 NaN     1            ZPLM_43170   \n",
       "162                 NaN                 NaN     1            ZPLM_43170   \n",
       "\n",
       "    VAT Description  SPECIFICATION   SPEC_TYPE AUTHORIZATION_GROUP  \\\n",
       "0      Added Sugars   100000000694  ZING_CHOLT                ZFOD   \n",
       "18     Added Sugars   100000006555  ZING_CHOLT                ZFOD   \n",
       "97     Added Sugars   100000017060  ZING_CHOLT                ZFOD   \n",
       "127    Added Sugars   100000031487  ZING_COCOP                ZFOD   \n",
       "162    Added Sugars   100000040141  ZING_CHOLT                ZFOD   \n",
       "\n",
       "     RECN_ESTVA   AENNR_ESTVA  RECNROOT_ESTVH  \n",
       "0        820265                        819682  \n",
       "18      2358886  300002075048         2358453  \n",
       "97      5702916                       5702506  \n",
       "127    30414869                      30414282  \n",
       "162    89291635  300000657398        89291495  "
      ]
     },
     "execution_count": 9,
     "metadata": {},
     "output_type": "execute_result"
    }
   ],
   "source": [
    "AddedSugar.head()"
   ]
  },
  {
   "cell_type": "code",
   "execution_count": 10,
   "metadata": {},
   "outputs": [
    {
     "name": "stdout",
     "output_type": "stream",
     "text": [
      "<class 'pandas.core.frame.DataFrame'>\n",
      "Int64Index: 858 entries, 0 to 50267\n",
      "Data columns (total 16 columns):\n",
      " #   Column                    Non-Null Count  Dtype \n",
      "---  ------                    --------------  ----- \n",
      " 0   OBJECT                    858 non-null    object\n",
      " 1   INTERNAL_CHAR_NO          858 non-null    object\n",
      " 2   Character No Description  858 non-null    object\n",
      " 3   CHARACTERISTIC_VALUE      858 non-null    object\n",
      " 4   Value Description         858 non-null    object\n",
      " 5   Value Description 1       0 non-null      object\n",
      " 6   Value Description 2       0 non-null      object\n",
      " 7   SORT                      858 non-null    int64 \n",
      " 8   VALUE_ASSIGNMENT_TYPE     858 non-null    object\n",
      " 9   VAT Description           858 non-null    object\n",
      " 10  SPECIFICATION             858 non-null    int64 \n",
      " 11  SPEC_TYPE                 858 non-null    object\n",
      " 12  AUTHORIZATION_GROUP       858 non-null    object\n",
      " 13  RECN_ESTVA                858 non-null    int64 \n",
      " 14  AENNR_ESTVA               858 non-null    object\n",
      " 15  RECNROOT_ESTVH            858 non-null    int64 \n",
      "dtypes: int64(4), object(12)\n",
      "memory usage: 114.0+ KB\n"
     ]
    }
   ],
   "source": [
    "AddedSugar.info()"
   ]
  },
  {
   "cell_type": "code",
   "execution_count": 11,
   "metadata": {},
   "outputs": [],
   "source": [
    "from matplotlib import pyplot as plt"
   ]
  },
  {
   "cell_type": "code",
   "execution_count": 12,
   "metadata": {},
   "outputs": [
    {
     "name": "stderr",
     "output_type": "stream",
     "text": [
      "<ipython-input-12-c0a1734b6e67>:3: UserWarning: Matplotlib is currently using module://ipykernel.pylab.backend_inline, which is a non-GUI backend, so cannot show the figure.\n",
      "  fig.show()\n"
     ]
    },
    {
     "data": {
      "image/png": "[encoded data removed]",
      "text/plain": [
       "<Figure size 720x288 with 1 Axes>"
      ]
     },
     "metadata": {
      "needs_background": "light"
     },
     "output_type": "display_data"
    }
   ],
   "source": [
    "fig = plt.figure(figsize=(10,4))\n",
    "plt.hist(AddedSugar['CHARACTERISTIC_VALUE'])\n",
    "fig.show()"
   ]
  },
  {
   "cell_type": "code",
   "execution_count": 35,
   "metadata": {},
   "outputs": [
    {
     "data": {
      "image/png": "[encoded data removed]",
      "text/plain": [
       "<Figure size 432x288 with 1 Axes>"
      ]
     },
     "metadata": {
      "needs_background": "light"
     },
     "output_type": "display_data"
    }
   ],
   "source": [
    "plt.figure()\n",
    "plt.scatter(AddedSugar['CHARACTERISTIC_VALUE'],AddedSugar['SPECIFICATION'])\n",
    "plt.show()"
   ]
  },
  {
   "cell_type": "code",
   "execution_count": 15,
   "metadata": {},
   "outputs": [],
   "source": [
    "import seaborn as sns\n"
   ]
  },
  {
   "cell_type": "code",
   "execution_count": 32,
   "metadata": {},
   "outputs": [
    {
     "data": {
      "text/plain": [
       "(858,)"
      ]
     },
     "execution_count": 32,
     "metadata": {},
     "output_type": "execute_result"
    }
   ],
   "source": [
    "AddedSugar['CHARACTERISTIC_VALUE'].shape"
   ]
  },
  {
   "cell_type": "code",
   "execution_count": 36,
   "metadata": {},
   "outputs": [
    {
     "data": {
      "text/plain": [
       "<bound method Series.min of 0        53.000000\n",
       "18       49.500000\n",
       "97       53.000000\n",
       "127       0.000000\n",
       "162      47.500000\n",
       "           ...    \n",
       "50046     0.000000\n",
       "50150    43.500000\n",
       "50164    12.800000\n",
       "50242    26.000000\n",
       "50267    50.000000\n",
       "Name: CHARACTERISTIC_VALUE, Length: 858, dtype: object>"
      ]
     },
     "execution_count": 36,
     "metadata": {},
     "output_type": "execute_result"
    }
   ],
   "source": [
    "AddedSugar['CHARACTERISTIC_VALUE'].min"
   ]
  },
  {
   "cell_type": "code",
   "execution_count": 37,
   "metadata": {},
   "outputs": [
    {
     "data": {
      "text/plain": [
       "<bound method Series.max of 0        53.000000\n",
       "18       49.500000\n",
       "97       53.000000\n",
       "127       0.000000\n",
       "162      47.500000\n",
       "           ...    \n",
       "50046     0.000000\n",
       "50150    43.500000\n",
       "50164    12.800000\n",
       "50242    26.000000\n",
       "50267    50.000000\n",
       "Name: CHARACTERISTIC_VALUE, Length: 858, dtype: object>"
      ]
     },
     "execution_count": 37,
     "metadata": {},
     "output_type": "execute_result"
    }
   ],
   "source": [
    "AddedSugar['CHARACTERISTIC_VALUE'].max"
   ]
  },
  {
   "cell_type": "code",
   "execution_count": 38,
   "metadata": {},
   "outputs": [
    {
     "data": {
      "text/plain": [
       "<bound method Series.mean of 0        53.000000\n",
       "18       49.500000\n",
       "97       53.000000\n",
       "127       0.000000\n",
       "162      47.500000\n",
       "           ...    \n",
       "50046     0.000000\n",
       "50150    43.500000\n",
       "50164    12.800000\n",
       "50242    26.000000\n",
       "50267    50.000000\n",
       "Name: CHARACTERISTIC_VALUE, Length: 858, dtype: object>"
      ]
     },
     "execution_count": 38,
     "metadata": {},
     "output_type": "execute_result"
    }
   ],
   "source": [
    "AddedSugar['CHARACTERISTIC_VALUE'].mean"
   ]
  },
  {
   "cell_type": "code",
   "execution_count": 44,
   "metadata": {},
   "outputs": [
    {
     "data": {
      "text/plain": [
       "49.5"
      ]
     },
     "execution_count": 44,
     "metadata": {},
     "output_type": "execute_result"
    }
   ],
   "source": [
    "SampleDataNum = pd.to_numeric(SampleData['CHARACTERISTIC_VALUE'],errors = 'coerce')\n",
    "SampleDataNum.loc[18]"
   ]
  },
  {
   "cell_type": "code",
   "execution_count": 46,
   "metadata": {},
   "outputs": [
    {
     "data": {
      "text/plain": [
       "37872"
      ]
     },
     "execution_count": 46,
     "metadata": {},
     "output_type": "execute_result"
    }
   ],
   "source": [
    "SampleDataNum.isnull().sum()"
   ]
  },
  {
   "cell_type": "code",
   "execution_count": 47,
   "metadata": {},
   "outputs": [
    {
     "data": {
      "text/plain": [
       "0"
      ]
     },
     "execution_count": 47,
     "metadata": {},
     "output_type": "execute_result"
    }
   ],
   "source": [
    "SampleDataNum = SampleDataNum.dropna(axis =0, how ='any')\n",
    "SampleDataNum.isnull().sum()"
   ]
  },
  {
   "cell_type": "code",
   "execution_count": 49,
   "metadata": {},
   "outputs": [
    {
     "name": "stderr",
     "output_type": "stream",
     "text": [
      "<ipython-input-49-60a2feeb4228>:4: UserWarning: Matplotlib is currently using module://ipykernel.pylab.backend_inline, which is a non-GUI backend, so cannot show the figure.\n",
      "  fig.show()\n"
     ]
    },
    {
     "data": {
      "image/png": "[encoded data removed]",
      "text/plain": [
       "<Figure size 288x1440 with 1 Axes>"
      ]
     },
     "metadata": {
      "needs_background": "light"
     },
     "output_type": "display_data"
    }
   ],
   "source": [
    "fig = plt.figure(figsize =(4,20))\n",
    "plt.boxplot(SampleDataNum)\n",
    "plt.title('Data Distribution')\n",
    "fig.show()"
   ]
  },
  {
   "cell_type": "code",
   "execution_count": 54,
   "metadata": {},
   "outputs": [
    {
     "data": {
      "text/plain": [
       "array([ 53.  ,   0.8 ,  52.61, ...,   0.26, 111.  ,  30.94])"
      ]
     },
     "execution_count": 54,
     "metadata": {},
     "output_type": "execute_result"
    }
   ],
   "source": [
    "SampleDataNum.unique()"
   ]
  },
  {
   "cell_type": "code",
   "execution_count": 55,
   "metadata": {},
   "outputs": [
    {
     "data": {
      "text/plain": [
       "2023"
      ]
     },
     "execution_count": 55,
     "metadata": {},
     "output_type": "execute_result"
    }
   ],
   "source": [
    "len(SampleDataNum.unique())"
   ]
  },
  {
   "cell_type": "code",
   "execution_count": 56,
   "metadata": {},
   "outputs": [],
   "source": [
    "AddedSugarNum = pd.to_numeric(AddedSugar['CHARACTERISTIC_VALUE'], errors = 'coerce')"
   ]
  },
  {
   "cell_type": "code",
   "execution_count": 60,
   "metadata": {},
   "outputs": [
    {
     "data": {
      "text/plain": [
       "257"
      ]
     },
     "execution_count": 60,
     "metadata": {},
     "output_type": "execute_result"
    }
   ],
   "source": [
    "len(AddedSugarNum.unique())"
   ]
  },
  {
   "cell_type": "code",
   "execution_count": 61,
   "metadata": {},
   "outputs": [
    {
     "data": {
      "text/plain": [
       "array([53.   , 49.5  ,  0.   , 47.5  , 40.   , 44.4  , 34.   , 43.   ,\n",
       "       31.6  , 49.4  , 51.8  , 61.   , 42.   , 35.   , 53.2  , 46.   ,\n",
       "       57.2  , 41.8  , 48.   , 37.   , 49.8  , 51.5  , 43.5  , 55.   ,\n",
       "       29.   , 46.5  , 40.85 , 53.92 , 50.5  , 50.   , 53.9  , 25.7  ,\n",
       "       46.3  , 26.   , 30.7  , 38.6  , 38.5  , 39.   , 41.5  , 70.96 ,\n",
       "       42.5  , 93.5  , 76.7  , 48.9  , 64.   , 37.62 , 41.1  , 45.47 ,\n",
       "       94.2  , 56.   , 31.2  ,  1.   , 46.7  , 37.5  , 39.5  , 51.1  ,\n",
       "       38.   , 30.   , 54.3  , 20.5  , 40.5  , 54.7  , 30.1  , 36.   ,\n",
       "       24.   , 44.6  , 59.4  , 54.   , 63.   , 26.7  , 27.   , 50.2  ,\n",
       "       29.8  , 48.5  , 50.41 , 61.29 , 35.16 , 38.37 , 42.56 , 48.67 ,\n",
       "       34.8  , 49.   , 61.1  , 45.86 , 47.9  , 39.3  , 52.4  , 25.   ,\n",
       "       33.   , 22.45 , 45.37 , 38.9  ,  0.7  , 51.   , 45.   , 31.1  ,\n",
       "       63.8  , 56.2  , 30.5  , 58.   , 56.8  , 47.2  , 26.5  , 47.1  ,\n",
       "       47.   , 48.7  , 58.1  , 56.7  , 35.2  , 57.   , 34.4  , 32.4  ,\n",
       "       41.   , 36.9  , 47.3  , 44.7  , 38.4  , 39.1  , 16.   , 43.9  ,\n",
       "       22.5  , 31.   , 50.9  , 49.3  ,  0.1  , 45.8  , 55.97 , 49.6  ,\n",
       "       35.5  , 35.4  , 51.3  , 31.4  , 30.3  , 28.8  , 47.8  , 54.5  ,\n",
       "       54.8  , 23.36 , 58.2  , 44.   , 59.5  , 42.4  , 47.7  , 39.2  ,\n",
       "       42.1  , 52.   , 33.6  , 45.7  , 59.   , 25.6  , 54.4  , 25.43 ,\n",
       "       43.65 , 29.4  , 31.36 , 41.7  , 42.8  , 56.5  , 10.   , 38.2  ,\n",
       "       30.4  , 60.   , 30.48 , 49.11 , 26.9  , 33.98 , 34.98 ,  7.7  ,\n",
       "       30.65 , 29.3  , 37.1  , 43.52 , 63.1  , 43.22 , 23.6  , 45.9  ,\n",
       "       43.08 , 32.   , 27.4  , 68.37 , 46.4  , 25.5  ,  9.6  , 45.5  ,\n",
       "       45.29 , 36.34 , 34.27 ,  0.5  , 59.8  , 12.   , 30.02 , 37.81 ,\n",
       "       39.7  , 28.4  , 40.7  , 27.5  , 30.9  , 33.3  , 48.35 , 54.2  ,\n",
       "       21.2  , 46.86 , 34.5  , 61.2  , 31.94 , 45.4  , 55.4  , 25.3  ,\n",
       "       35.47 , 29.07 , 67.   , 52.5  , 43.63 , 28.1  , 35.7  , 22.68 ,\n",
       "       18.5  , 15.61 , 29.43 , 27.01 , 31.5  , 40.9  , 36.2  , 48.8  ,\n",
       "       36.6  , 90.2  , 29.5  , 43.4  , 37.4  , 26.554, 40.4  , 45.74 ,\n",
       "       50.21 ,  0.6  , 52.1  , 28.2  ,  8.5  , 23.8  , 32.2  , 57.7  ,\n",
       "       13.7  , 57.6  , 32.8  , 42.7  , 51.275, 38.45 , 32.5  , 22.43 ,\n",
       "       40.1  , 28.   , 50.8  , 24.2  , 33.7  , 58.7  , 39.48 , 59.7  ,\n",
       "       12.8  ])"
      ]
     },
     "execution_count": 61,
     "metadata": {},
     "output_type": "execute_result"
    }
   ],
   "source": [
    "AddedSugarNum.unique()"
   ]
  },
  {
   "cell_type": "code",
   "execution_count": 64,
   "metadata": {},
   "outputs": [
    {
     "data": {
      "image/png": "[encoded data removed]",
      "text/plain": [
       "<Figure size 720x504 with 1 Axes>"
      ]
     },
     "metadata": {
      "needs_background": "light"
     },
     "output_type": "display_data"
    }
   ],
   "source": [
    "plt.figure(figsize = (10,7))\n",
    "plt.scatter(AddedSugar['CHARACTERISTIC_VALUE'],AddedSugarNum)\n",
    "plt.show()"
   ]
  },
  {
   "cell_type": "code",
   "execution_count": 65,
   "metadata": {},
   "outputs": [],
   "source": [
    "from sklearn.ensemble import IsolationForest"
   ]
  },
  {
   "cell_type": "code",
   "execution_count": 66,
   "metadata": {},
   "outputs": [
    {
     "name": "stderr",
     "output_type": "stream",
     "text": [
      "<ipython-input-66-00cd3fb7635b>:4: UserWarning: Matplotlib is currently using module://ipykernel.pylab.backend_inline, which is a non-GUI backend, so cannot show the figure.\n",
      "  fig.show()\n"
     ]
    },
    {
     "data": {
      "image/png": "[encoded data removed]",
      "text/plain": [
       "<Figure size 720x504 with 1 Axes>"
      ]
     },
     "metadata": {
      "needs_background": "light"
     },
     "output_type": "display_data"
    }
   ],
   "source": [
    "fig = plt.figure(figsize =(10,7))\n",
    "plt.boxplot(AddedSugarNum)\n",
    "plt.title('Data Distribution')\n",
    "fig.show()"
   ]
  },
  {
   "cell_type": "code",
   "execution_count": 67,
   "metadata": {},
   "outputs": [
    {
     "data": {
      "text/plain": [
       "<matplotlib.axes._subplots.AxesSubplot at 0x25dcc3debb0>"
      ]
     },
     "execution_count": 67,
     "metadata": {},
     "output_type": "execute_result"
    },
    {
     "data": {
      "image/png": "[encoded data removed]",
      "text/plain": [
       "<Figure size 432x288 with 1 Axes>"
      ]
     },
     "metadata": {
      "needs_background": "light"
     },
     "output_type": "display_data"
    }
   ],
   "source": [
    "sns.boxplot(x=AddedSugarNum)"
   ]
  },
  {
   "cell_type": "code",
   "execution_count": 68,
   "metadata": {},
   "outputs": [],
   "source": [
    "from scipy import stats\n",
    "import numpy as np"
   ]
  },
  {
   "cell_type": "code",
   "execution_count": 69,
   "metadata": {},
   "outputs": [],
   "source": [
    "ZScore = np.abs(stats.zscore(AddedSugarNum))"
   ]
  },
  {
   "cell_type": "code",
   "execution_count": 70,
   "metadata": {},
   "outputs": [
    {
     "name": "stdout",
     "output_type": "stream",
     "text": [
      "[1.04502369e+00 8.67594607e-01 1.04502369e+00 1.64175960e+00\n",
      " 7.66206558e-01 3.86001376e-01 6.09055083e-01 1.04502369e+00\n",
      " 8.18372304e-02 5.38083449e-01 3.98284278e-02 8.62525204e-01\n",
      " 9.84190863e-01 1.64175960e+00 1.64175960e+00 1.45057589e+00\n",
      " 4.87389425e-01 1.64175960e+00 1.64175960e+00 1.32531255e-01\n",
      " 1.05516250e+00 1.64175960e+00 6.90165522e-01 1.25793859e+00\n",
      " 4.77250620e-01 1.32531255e-01 1.32531255e-01 7.91553570e-01\n",
      " 1.32531255e-01 2.33919303e-01 8.82802814e-01 3.86001376e-01\n",
      " 9.68982655e-01 5.63430461e-01 1.64175960e+00 1.14641174e+00\n",
      " 1.71632891e-01 7.15512534e-01 7.15512534e-01 4.29091297e-01\n",
      " 1.09166219e+00 9.18288631e-01 8.92941619e-01 1.09064831e+00\n",
      " 1.64175960e+00 1.14641174e+00 3.38923171e-01 1.64175960e+00\n",
      " 1.64175960e+00 1.64175960e+00 7.05373729e-01 3.23714964e-01\n",
      " 4.87389425e-01 8.54530497e-02 5.63430461e-01 5.38083449e-01\n",
      " 3.15029742e-01 3.09960340e-01 1.64175960e+00 3.35307352e-01\n",
      " 3.09960340e-01 4.62042413e-01 1.64175960e+00 1.09064831e+00\n",
      " 1.95548837e+00 1.64175960e+00 5.12736437e-01 1.64175960e+00\n",
      " 1.64175960e+00 1.64175960e+00 1.64175960e+00 1.64175960e+00\n",
      " 1.64175960e+00 3.09813168e+00 8.92941619e-01 1.64175960e+00\n",
      " 1.64175960e+00 2.24647207e+00 1.64175960e+00 1.64175960e+00\n",
      " 8.37178192e-01 1.64175960e+00 7.91553570e-01 1.64175960e+00\n",
      " 5.12736437e-01 7.15512534e-01 1.64175960e+00 1.64175960e+00\n",
      " 1.64175960e+00 4.87389425e-01 1.71632891e-01 1.60265796e+00\n",
      " 1.64175960e+00 3.35307352e-01 1.64175960e+00 2.65349598e-01\n",
      " 4.41764803e-01 1.64175960e+00 2.65349598e-01 3.35307352e-01\n",
      " 1.64175960e+00 1.64175960e+00 6.63297689e-01 1.64175960e+00\n",
      " 1.64175960e+00 3.13361749e+00 1.64175960e+00 1.19710576e+00\n",
      " 6.01060375e-02 1.64175960e+00 1.64175960e+00 1.59106557e+00\n",
      " 7.25651339e-01 1.64175960e+00 6.90165522e-01 2.59266315e-01\n",
      " 8.92941619e-01 3.60654364e-01 8.54530497e-02 1.64175960e+00\n",
      " 9.48705046e-01 1.64175960e+00 3.86001376e-01 4.87389425e-01\n",
      " 8.92941619e-01 9.48705046e-01 2.84613328e-01 1.20938867e-01\n",
      " 8.92941619e-01 1.11092592e+00 6.02532097e-01 4.62042413e-01\n",
      " 4.11348388e-01 1.32531255e-01 8.92941619e-01 1.13120353e+00\n",
      " 8.92941619e-01 1.15869464e-01 1.83225279e-01 4.25103012e-01\n",
      " 6.19193888e-01 1.36946545e+00 8.67594607e-01 3.60654364e-01\n",
      " 1.09571772e+00 1.64175960e+00 1.55196393e+00 3.60654364e-01\n",
      " 1.15869464e-01 2.33919303e-01 5.63430461e-01 2.88229147e-01\n",
      " 2.73020940e-01 9.03080424e-01 3.35307352e-01 4.87389425e-01\n",
      " 1.31077672e-01 1.64175960e+00 8.16900583e-01 2.73020940e-01\n",
      " 3.86001376e-01 5.63430461e-01 1.14641174e+00 1.64175960e+00\n",
      " 9.13726169e-01 1.19710576e+00 1.46527715e+00 1.40642299e-01\n",
      " 3.03370117e-01 8.67594607e-01 1.64175960e+00 8.82802814e-01\n",
      " 4.11348388e-01 5.15778078e-01 3.35307352e-01 8.92941619e-01\n",
      " 5.38083449e-01 6.90165522e-01 8.25518567e-01 1.64175960e+00\n",
      " 1.64175960e+00 1.64175960e+00 1.64175960e+00 3.86001376e-01\n",
      " 1.64175960e+00 1.64175960e+00 1.22392450e-01 8.42247595e-01\n",
      " 1.64175960e+00 7.15512534e-01 1.64175960e+00 3.60654364e-01\n",
      " 1.45564529e+00 1.64175960e+00 6.83068358e-01 7.86484168e-01\n",
      " 7.86484168e-01 4.87389425e-01 1.64175960e+00 3.50515559e-01\n",
      " 1.01460728e+00 3.35307352e-01 1.45057589e+00 3.74408988e-01\n",
      " 3.11432062e-02 3.35307352e-01 5.03678750e-01 6.58228287e-01\n",
      " 3.35307352e-01 3.60654364e-01 3.60654364e-01 3.35307352e-01\n",
      " 3.30237949e-01 6.90165522e-01 1.60627378e+00 6.90165522e-01\n",
      " 1.64175960e+00 8.92941619e-01 9.43635643e-01 6.39471498e-01\n",
      " 6.51754400e-02 1.59251915e+00 1.64175960e+00 1.32531255e-01\n",
      " 1.64175960e+00 1.64175960e+00 1.64175960e+00 1.64175960e+00\n",
      " 1.64175960e+00 1.64175960e+00 1.64175960e+00 1.64175960e+00\n",
      " 1.64175960e+00 1.64175960e+00 1.64175960e+00 1.14641174e+00\n",
      " 1.20724457e+00 9.18288631e-01 1.64175960e+00 9.55918545e-02\n",
      " 1.29849381e+00 1.23766098e+00 1.04502369e+00 3.15029742e-01\n",
      " 7.50998351e-01 2.98367952e-01 7.66206558e-01 1.64175960e+00\n",
      " 2.59266315e-01 8.54530497e-02 1.64175960e+00 3.35307352e-01\n",
      " 1.64175960e+00 3.35307352e-01 1.64175960e+00 7.45928949e-01\n",
      " 7.40859546e-01 9.68982655e-01 3.60654364e-01 4.41764803e-01\n",
      " 8.27039387e-01 8.37178192e-01 6.90165522e-01 1.30356322e+00\n",
      " 1.64175960e+00 1.23259158e+00 1.42670060e-01 5.38083449e-01\n",
      " 1.64175960e+00 8.37178192e-01 7.91553570e-01 1.64175960e+00\n",
      " 1.24779979e+00 1.64175960e+00 1.64175960e+00 1.02114840e-01\n",
      " 1.64175960e+00 7.26791600e-04 1.64175960e+00 3.23714964e-01\n",
      " 4.36695400e-01 2.28849901e-01 1.32531255e-01 1.64175960e+00\n",
      " 1.64175960e+00 4.77250620e-01 7.56067753e-01 8.42247595e-01\n",
      " 4.36695400e-01 6.24263290e-01 1.29849381e+00 1.64175960e+00\n",
      " 1.19710576e+00 1.64175960e+00 6.90165522e-01 3.04890937e-01\n",
      " 3.40376754e-01 9.43635643e-01 8.30655207e-01 5.63430461e-01\n",
      " 4.11348388e-01 3.60654364e-01 3.98284278e-02 5.83708071e-01\n",
      " 8.16900583e-01 5.01144049e-01 3.11432062e-02 7.02448424e-02\n",
      " 9.38566241e-01 8.18372304e-02 1.83225279e-01 3.86001376e-01\n",
      " 8.57455802e-01 1.29849381e+00 1.63669019e+00 4.87389425e-01\n",
      " 6.80026717e-01 1.19558494e+00 8.72664009e-01 1.57878267e-01\n",
      " 1.83225279e-01 4.36695400e-01 2.59266315e-01 3.09960340e-01\n",
      " 1.52808864e-01 3.60654364e-01 9.18288631e-01 9.58843850e-01\n",
      " 4.99672327e-02 9.55918545e-02 1.05730659e-01 1.81771696e-01\n",
      " 7.81414766e-01 7.15512534e-01 1.12106473e+00 1.19710576e+00\n",
      " 1.64175960e+00 1.13627294e+00 1.64175960e+00 2.28849901e-01\n",
      " 4.57547188e-01 1.64175960e+00 3.09960340e-01 1.30863262e+00\n",
      " 7.45928949e-01 5.88777473e-01 1.64175960e+00 1.37453485e+00\n",
      " 5.07667034e-01 7.76345363e-01 3.86001376e-01 3.45446157e-01\n",
      " 4.92458827e-01 8.72664009e-01 1.64175960e+00 9.94329667e-01\n",
      " 6.15596207e-02 9.43635643e-01 6.74957315e-01 7.15512534e-01\n",
      " 4.87389425e-01 2.88229147e-01 1.71632891e-01 7.02448424e-02\n",
      " 1.64175960e+00 1.34918784e+00 4.87389425e-01 1.12106473e+00\n",
      " 3.43992574e-01 1.64175960e+00 1.83225279e-01 1.64175960e+00\n",
      " 7.91553570e-01 1.11599533e+00 9.58843850e-01 3.52610558e-01\n",
      " 1.64175960e+00 5.71034565e-01 1.64175960e+00 1.64175960e+00\n",
      " 3.35307352e-01 9.43635643e-01 8.54530497e-02 3.74408988e-01\n",
      " 1.51355281e-01 1.64175960e+00 1.29849381e+00 3.11432062e-02\n",
      " 9.43635643e-01 5.12736437e-01 5.19949937e-02 4.72181217e-01\n",
      " 5.27944644e-01 7.02448424e-02 8.67594607e-01 1.20938867e-01\n",
      " 1.22245278e+00 1.13481935e+00 4.87389425e-01 1.64175960e+00\n",
      " 1.64175960e+00 2.94752132e-01 1.64175960e+00 1.00661257e-01\n",
      " 1.39988186e+00 1.64175960e+00 1.32531255e-01 3.86001376e-01\n",
      " 2.73020940e-01 4.41764803e-01 3.30237949e-01 9.66057350e-02\n",
      " 8.47823937e-01 9.66057350e-02 1.64175960e+00 3.23714964e-01\n",
      " 3.60654364e-01 2.78090342e-01 8.08233500e-02 1.31517374e-01\n",
      " 1.64175960e+00 1.25141561e+00 1.64175960e+00 8.79877509e-02\n",
      " 1.64175960e+00 1.64175960e+00 6.90165522e-01 1.81771696e-01\n",
      " 4.41764803e-01 1.56424684e-01 3.35307352e-01 6.90165522e-01\n",
      " 1.64175960e+00 6.90165522e-01 1.64175960e+00 2.38988706e-01\n",
      " 5.64444342e-01 1.55703334e+00 9.48705046e-01 1.32531255e-01\n",
      " 4.36695400e-01 1.64175960e+00 1.12106473e+00 5.38083449e-01\n",
      " 1.83225279e-01 6.02532097e-01 9.68982655e-01 4.11348388e-01\n",
      " 1.64175960e+00 5.15778078e-01 5.49236134e-01 4.45380622e-01\n",
      " 6.85096119e-01 8.18372304e-02 2.73020940e-01 1.14641174e+00\n",
      " 7.86484168e-01 3.23714964e-01 8.67594607e-01 3.35307352e-01\n",
      " 1.64175960e+00 8.92941619e-01 1.71632891e-01 5.42138971e-01\n",
      " 1.64175960e+00 1.64175960e+00 1.95508181e-02 5.38083449e-01\n",
      " 3.86001376e-01 1.32531255e-01 1.64175960e+00 2.52743330e-01\n",
      " 1.64175960e+00 1.19710576e+00 1.82419084e+00 3.50515559e-01\n",
      " 7.02448424e-02 9.43635643e-01 1.64175960e+00 4.77250620e-01\n",
      " 9.43635643e-01 1.64175960e+00 5.27944644e-01 1.64175960e+00\n",
      " 7.10443132e-01 1.02114840e-01 4.87389425e-01 3.49061976e-01\n",
      " 5.12736437e-01 4.87389425e-01 1.15509696e+00 1.64175960e+00\n",
      " 6.39471498e-01 3.09960340e-01 6.64818510e-01 8.92941619e-01\n",
      " 8.92941619e-01 3.11432062e-02 6.54172765e-01 2.00461247e-01\n",
      " 3.35307352e-01 7.02448424e-02 9.55246170e-02 8.42247595e-01\n",
      " 5.38083449e-01 1.61641258e+00 4.41764803e-01 9.18288631e-01\n",
      " 1.64175960e+00 5.12736437e-01 4.36695400e-01 8.79877509e-02\n",
      " 1.38974306e+00 3.60654364e-01 1.09571772e+00 8.82802814e-01\n",
      " 2.78090342e-01 4.72181217e-01 1.64175960e+00 1.64175960e+00\n",
      " 3.74408988e-01 8.92941619e-01 1.03343130e+00 2.33919303e-01\n",
      " 1.64175960e+00 1.19924986e-01 2.74981463e-01 3.70793169e-01\n",
      " 2.65349598e-01 1.95508181e-02 2.02049306e-01 2.84613328e-01\n",
      " 4.21487193e-01 2.47673927e-01 1.64175960e+00 3.74408988e-01\n",
      " 6.02532097e-01 7.53142448e-02 1.31517374e-01 1.64175960e+00\n",
      " 1.14641174e+00 1.12106473e+00 6.09055083e-01 3.86001376e-01\n",
      " 1.64175960e+00 4.63514135e-02 8.09296479e-01 1.64175960e+00\n",
      " 1.10585652e+00 2.33919303e-01 3.60654364e-01 1.31077672e-01\n",
      " 7.02448424e-02 5.67046280e-01 1.64175960e+00 1.64175960e+00\n",
      " 1.64175960e+00 7.33762383e-01 3.60654364e-01 5.63430461e-01\n",
      " 1.32531255e-01 1.64175960e+00 5.63430461e-01 1.07184243e-01\n",
      " 1.64175960e+00 3.35307352e-01 6.80026717e-01 1.46071469e+00\n",
      " 7.33762383e-01 3.52610558e-01 3.09960340e-01 1.64175960e+00\n",
      " 3.49061976e-01 1.64175960e+00 5.38083449e-01 1.64175960e+00\n",
      " 3.74408988e-01 3.74408988e-01 3.52610558e-01 1.09571772e+00\n",
      " 2.25924596e-02 1.32531255e-01 1.64175960e+00 1.14641174e+00\n",
      " 6.59749107e-01 5.83708071e-01 1.95508181e-02 1.95508181e-02\n",
      " 5.88777473e-01 6.15596207e-02 1.56424684e-01 2.33919303e-01\n",
      " 1.64175960e+00 1.09571772e+00 1.56424684e-01 3.60654364e-01\n",
      " 3.60654364e-01 3.60654364e-01 1.16668935e+00 1.16668935e+00\n",
      " 3.59200781e-01 1.56424684e-01 1.56357446e-01 2.25924596e-02\n",
      " 3.23714964e-01 1.68084309e-01 5.38083449e-01 1.75474003e+00\n",
      " 1.01967668e+00 6.64818510e-01 5.70020684e-01 5.70020684e-01\n",
      " 1.75474003e+00 6.39471498e-01 3.60654364e-01 3.60654364e-01\n",
      " 2.17257513e-01 6.80026717e-01 9.43635643e-01 1.64175960e+00\n",
      " 2.94752132e-01 1.68017072e-01 1.64175960e+00 1.56424684e-01\n",
      " 1.64175960e+00 1.10585652e+00 6.90165522e-01 4.92019124e-01\n",
      " 7.03920146e-01 1.64175960e+00 4.63514135e-02 1.64175960e+00\n",
      " 8.50425876e-01 1.49834461e-01 5.63430461e-01 2.73020940e-01\n",
      " 3.74408988e-01 2.72513999e-01 4.48978303e-02 7.66206558e-01\n",
      " 4.31625998e-01 6.90165522e-01 1.64175960e+00 4.77250620e-01\n",
      " 3.86001376e-01 8.42247595e-01 1.93364084e-01 1.64175960e+00\n",
      " 2.65349598e-01 1.64175960e+00 5.38083449e-01 8.32108790e-01\n",
      " 1.22245278e+00 3.60654364e-01 6.51754400e-02 2.13641694e-01\n",
      " 1.64175960e+00 1.64175960e+00 6.39471498e-01 2.93084139e+00\n",
      " 1.64175960e+00 1.64175960e+00 1.64175960e+00 1.46285879e-01\n",
      " 1.64175960e+00 1.64175960e+00 1.64175960e+00 1.64175960e+00\n",
      " 1.64175960e+00 1.64175960e+00 6.15596207e-02 1.14641174e+00\n",
      " 5.71034565e-01 1.32531255e-01 1.32531255e-01 5.19949937e-02\n",
      " 5.58361059e-01 8.92941619e-01 1.64175960e+00 2.54196913e-01\n",
      " 1.64175960e+00 3.09960340e-01 3.09960340e-01 3.09960340e-01\n",
      " 1.64175960e+00 7.50998351e-01 8.92941619e-01 4.41764803e-01\n",
      " 8.82802814e-01 2.95630474e-01 1.83225279e-01 5.38083449e-01\n",
      " 1.07184243e-01 4.62042413e-01 1.64175960e+00 1.64175960e+00\n",
      " 2.73020940e-01 5.63430461e-01 8.16900583e-01 4.06278986e-01\n",
      " 3.23714964e-01 6.76985075e-01 6.83068358e-01 9.03587364e-01\n",
      " 4.21487193e-01 3.60654364e-01 3.35307352e-01 1.61134318e+00\n",
      " 9.99399070e-01 1.05730659e-01 1.83225279e-01 3.86001376e-01\n",
      " 3.60654364e-01 1.64175960e+00 1.61641258e+00 1.64175960e+00\n",
      " 1.64175960e+00 9.48705046e-01 1.64175960e+00 1.64175960e+00\n",
      " 9.38566241e-01 6.39471498e-01 1.32531255e-01 4.77250620e-01\n",
      " 1.46071469e+00 1.64175960e+00 3.11432062e-02 2.12188110e-01\n",
      " 4.77250620e-01 9.68982655e-01 1.20938867e-01 1.21086039e+00\n",
      " 1.64175960e+00 1.64175960e+00 1.22392450e-01 4.87389425e-01\n",
      " 9.68982655e-01 9.43635643e-01 7.56067753e-01 1.34918784e+00\n",
      " 9.43635643e-01 7.53142448e-02 1.64175960e+00 1.14641174e+00\n",
      " 5.07667034e-01 1.64175960e+00 4.35241817e-01 6.39471498e-01\n",
      " 1.22245278e+00 1.95548837e+00 2.17257513e-01 1.01967668e+00\n",
      " 6.90165522e-01 9.41201326e-03 7.15512534e-01 1.28328561e+00\n",
      " 9.47251462e-01 4.21487193e-01 1.16668935e+00 1.14641174e+00\n",
      " 1.27821620e+00 7.02448424e-02 1.52808864e-01 2.12188110e-01\n",
      " 2.10044013e-02 4.31625998e-01 1.64175960e+00 1.04502369e+00\n",
      " 8.18372304e-02 8.92941619e-01 8.42247595e-01 9.18288631e-01\n",
      " 2.52743330e-01 3.60654364e-01 9.43635643e-01 4.87389425e-01\n",
      " 5.83708071e-01 6.90165522e-01 9.18288631e-01 7.02448424e-02\n",
      " 5.22875242e-01 9.57576500e-01 1.32531255e-01 6.63297689e-01\n",
      " 3.60654364e-01 1.64175960e+00 3.07425638e-01 8.92941619e-01\n",
      " 1.59251915e+00 6.90165522e-01 3.23714964e-01 5.79619403e-03\n",
      " 5.19949937e-02 5.04692630e-01 1.32531255e-01 6.74957315e-01\n",
      " 1.68084309e-01 8.54530497e-02 8.08233500e-02 9.43635643e-01\n",
      " 3.23714964e-01 4.11348388e-01 5.38083449e-01 7.91553570e-01\n",
      " 1.64175960e+00 3.60654364e-01 3.40376754e-01 6.24263290e-01\n",
      " 8.18372304e-02 1.64175960e+00 1.64175960e+00 9.68982655e-01\n",
      " 9.18288631e-01 3.91070779e-01 3.60654364e-01 3.35307352e-01\n",
      " 8.92941619e-01 3.09960340e-01 2.22326915e-01 1.64175960e+00\n",
      " 6.80026717e-01 9.33496838e-01 4.77250620e-01 6.51754400e-02\n",
      " 1.64175960e+00 3.11432062e-02 1.64175960e+00 4.41764803e-01\n",
      " 4.87389425e-01 3.60654364e-01 1.12106473e+00 4.14964207e-01\n",
      " 1.25793859e+00 6.66290232e-02 1.09571772e+00 8.67594607e-01\n",
      " 7.03920146e-01 3.52610558e-01 1.09571772e+00 5.27944644e-01\n",
      " 1.56424684e-01 1.64175960e+00 1.33397963e+00 5.63430461e-01\n",
      " 4.92458827e-01 1.64175960e+00 1.64175960e+00 3.59640483e-01\n",
      " 1.64175960e+00 1.38467365e+00 1.20938867e-01 3.60654364e-01\n",
      " 3.86001376e-01 1.64175960e+00 5.63430461e-01 9.92876084e-01\n",
      " 3.23714964e-01 8.92941619e-01]\n"
     ]
    }
   ],
   "source": [
    "print(ZScore)"
   ]
  },
  {
   "cell_type": "code",
   "execution_count": 78,
   "metadata": {},
   "outputs": [
    {
     "name": "stdout",
     "output_type": "stream",
     "text": [
      "(array([ 73,  77, 105, 659], dtype=int64),)\n"
     ]
    }
   ],
   "source": [
    "threshold = 1\n",
    "print(np.where(ZScore > 2))"
   ]
  },
  {
   "cell_type": "code",
   "execution_count": 98,
   "metadata": {},
   "outputs": [
    {
     "name": "stdout",
     "output_type": "stream",
     "text": [
      "21.224999999999994\n"
     ]
    }
   ],
   "source": [
    "Q1 = AddedSugarNum.quantile(0.25)\n",
    "Q3 = AddedSugarNum.quantile(0.75)\n",
    "IQR = Q3 - Q1\n",
    "print(IQR)"
   ]
  },
  {
   "cell_type": "code",
   "execution_count": 99,
   "metadata": {},
   "outputs": [
    {
     "name": "stdout",
     "output_type": "stream",
     "text": [
      "lower limit is  -6.8374999999999915\n",
      "Upper limit is  78.06249999999999\n"
     ]
    }
   ],
   "source": [
    "print(\"lower limit is \", Q1 - 1.5*IQR)\n",
    "print(\"Upper limit is \", Q3 + 1.5*IQR)"
   ]
  },
  {
   "cell_type": "code",
   "execution_count": 100,
   "metadata": {},
   "outputs": [],
   "source": [
    "def Outlier_Limit(data,StdDev):\n",
    "    anomalies = []\n",
    "    \n",
    "    random_data_std = data.std()\n",
    "    random_data_mean = data.mean()\n",
    "    random_cut_off = random_data_std * StdDev\n",
    "    \n",
    "    lower_limit = random_data_mean - random_cut_off\n",
    "    print(\"Lower Limit is \",lower_limit)\n",
    "    upper_limit = random_data_mean + random_cut_off\n",
    "    print(\"Upper Limit is \",upper_limit)\n",
    "    \n",
    "    for outlier in data:\n",
    "        if outlier > upper_limit or outlier < lower_limit:\n",
    "            anomalies.append(outlier)\n",
    "            \n",
    "    return anomalies"
   ]
  },
  {
   "cell_type": "code",
   "execution_count": 101,
   "metadata": {},
   "outputs": [
    {
     "name": "stdout",
     "output_type": "stream",
     "text": [
      "Lower Limit is  -7.089729627922559\n",
      "Upper Limit is  71.8610559682489\n",
      "[93.5, 76.7, 94.2, 90.2]\n"
     ]
    }
   ],
   "source": [
    "print(Outlier_Limit(AddedSugarNum,2))"
   ]
  },
  {
   "cell_type": "code",
   "execution_count": 105,
   "metadata": {},
   "outputs": [
    {
     "ename": "ValueError",
     "evalue": "Expected 2D array, got 1D array instead:\narray=[53.    49.5   53.     0.    47.5   40.    44.4   53.    34.    43.\n 31.6   49.4   51.8    0.     0.    61.    42.     0.     0.    35.\n 53.2    0.    46.    57.2   41.8   35.    35.    48.    35.    37.\n 49.8   40.    51.5   43.5    0.    55.    29.    46.5   46.5   40.85\n 53.92  50.5   50.    53.9    0.    55.    25.7    0.     0.     0.\n 46.3   26.    42.    30.7   43.5   43.    38.6   38.5    0.    39.\n 38.5   41.5    0.    53.9   70.96   0.    42.5    0.     0.     0.\n  0.     0.     0.    93.5   50.     0.     0.    76.7    0.     0.\n 48.9    0.    48.     0.    42.5   46.5    0.     0.     0.    42.\n 29.    64.     0.    39.     0.    37.62  41.1    0.    37.62  39.\n  0.     0.    45.47   0.     0.    94.2    0.    56.    31.2    0.\n  0.     1.    46.7    0.    46.    37.5   50.    39.5   30.7    0.\n 51.1    0.    40.    42.    50.    51.1   38.    30.    50.    54.3\n 20.5   41.5   40.5   35.    50.    54.7   50.    30.1   36.    24.\n 44.6   59.4   49.5   39.5   54.     0.    63.    39.5   30.1   37.\n 43.5   26.7   27.    50.2   39.    42.    29.8    0.    48.5   27.\n 40.    43.5   55.     0.    50.41  56.    61.29  35.16  38.37  49.5\n  0.    49.8   40.5   42.56  39.    50.    43.    46.    48.67   0.\n  0.     0.     0.    40.     0.     0.    34.8   49.     0.    46.5\n  0.    39.5   61.1    0.    45.86  47.9   47.9   42.     0.    39.3\n 52.4   39.    61.    25.    33.    39.    22.45  45.37  39.    39.5\n 39.5   39.    38.9   46.     0.7   46.     0.    50.    51.    45.\n 31.1   63.8    0.    35.     0.     0.     0.     0.     0.     0.\n  0.     0.     0.     0.     0.    55.    56.2   50.5    0.    30.5\n 58.    56.8   53.    38.6   47.2   26.5   47.5    0.    37.5   30.7\n  0.    39.     0.    39.     0.    47.1   47.    51.5   39.5   41.1\n 48.7   48.9   46.    58.1    0.    56.7   35.2   43.     0.    48.9\n 48.     0.    57.     0.     0.    34.4    0.    32.4    0.    26.\n 41.    36.9   35.     0.     0.    41.8   47.3   49.    41.    44.7\n 58.     0.    56.     0.    46.    38.4   39.1   51.    16.    43.5\n 40.5   39.5   31.6   43.9   48.5   22.5   33.    31.    50.9   34.\n 36.    40.    49.3   58.     0.1   42.    45.8   55.97  49.6   35.5\n 36.    41.    37.5   38.5   35.4   39.5   50.5   51.3   31.4   30.5\n 30.3   28.8   47.8   46.5   54.5   56.     0.    54.8    0.    36.9\n 23.36   0.    38.5   58.2   47.1   44.     0.    59.5   42.4   47.7\n 40.    39.2   42.1   49.6    0.    52.    33.6   51.    45.7   46.5\n 42.    26.7   29.    31.     0.    59.    42.    54.5   25.6    0.\n 36.     0.    48.    54.4   51.3   25.43   0.    43.65   0.     0.\n 39.    51.    30.7   25.    29.4    0.    58.    33.    51.    42.5\n 31.36  41.7   42.8   31.    49.5   30.    56.5   10.    42.     0.\n  0.    38.2    0.    30.4   60.     0.    35.    40.    27.    41.1\n 38.9   30.48  49.11  30.48   0.    26.    39.5   26.9   33.98  34.98\n  0.     7.7    0.    30.65   0.     0.    46.    28.8   41.1   29.3\n 39.    46.     0.    46.     0.    37.1   43.52  63.1   51.1   35.\n 41.     0.    54.5   43.    36.    20.5   51.5   40.5    0.    42.56\n 43.22  23.6   45.9   34.    27.    55.    47.9   26.    49.5   39.\n  0.    50.    29.    43.08   0.     0.    32.    43.    40.    35.\n  0.    27.4    0.    56.    68.37  39.3   31.    51.     0.    41.8\n 51.     0.    42.8    0.    46.4   34.4   42.    25.5   42.5   42.\n  9.6    0.    45.    38.5   45.5   50.    50.    33.    45.29  36.34\n 39.    31.    34.27  49.    43.     0.5   41.1   50.5    0.    42.5\n 41.    30.65  59.8   39.5   54.    49.8   26.9   41.7    0.     0.\n 25.    50.    12.    37.     0.    30.02  37.81  39.7   37.62  32.\n 28.4   38.    40.7   27.5    0.    25.    20.5   30.9   34.98   0.\n 55.    54.5   44.4   40.     0.    33.3   48.35   0.    54.2   37.\n 39.5   29.8   31.    21.2    0.     0.     0.    46.86  39.5   43.5\n 35.     0.    43.5   34.5    0.    39.    45.8   61.2   46.86  25.43\n 38.5    0.    25.5    0.    43.     0.    25.    25.    25.43  54.\n 31.94  35.     0.    55.    45.4   43.9   32.    32.    44.    33.6\n 29.3   37.     0.    54.    29.3   39.5   39.5   39.5   55.4   55.4\n 25.3   29.3   35.47  31.94  26.    29.07  43.    67.    52.5   45.5\n 43.63  43.63  67.    45.    39.5   39.5   28.1   45.8   51.     0.\n 38.2   35.7    0.    29.3    0.    54.2   46.    22.68  18.5    0.\n 33.3    0.    15.61  29.43  43.5   27.    25.    27.01  31.5   47.5\n 40.9   46.     0.    41.8   40.    49.    36.2    0.    37.62   0.\n 43.    48.8   56.5   39.5   31.1   36.6    0.     0.    45.    90.2\n  0.     0.     0.    29.5    0.     0.     0.     0.     0.     0.\n 33.6   55.    43.65  35.    35.    31.36  43.4   50.     0.    37.4\n  0.    38.5   38.5   38.5    0.    47.2   50.    41.1   49.8   26.554\n 36.    43.    34.5   41.5    0.     0.    27.    43.5   48.5   40.4\n 26.    45.74  45.86  50.21  40.7   39.5   39.     0.6   52.1   30.3\n 36.    40.    39.5    0.     0.5    0.     0.    51.1    0.     0.\n 50.9   45.    35.    41.8   61.2    0.    33.    28.2   41.8   51.5\n 30.     8.5    0.     0.    34.8   42.    51.5   51.    47.3   59.\n 51.    30.9    0.    55.    42.4    0.    23.8   45.    56.5   70.96\n 28.1   52.5   46.    32.2   46.5   57.7   13.7   40.7   55.4   55.\n 57.6   31.    35.4   28.2   32.8   40.9    0.    53.    34.    50.\n 49.    50.5   27.4   39.5   51.    42.    43.9   46.    50.5   31.\n 42.7   51.275 35.    45.47  39.5    0.    38.45  50.    63.8   46.\n 26.    32.5   31.36  22.43  35.    45.7   29.07  30.7   33.98  51.\n 26.    40.5   43.    48.     0.    39.5   39.1   44.7   34.     0.\n  0.    51.5   50.5   40.1   39.5   39.    50.    38.5   28.     0.\n 45.8   50.8   41.8   31.1    0.    33.     0.    41.1   42.    39.5\n 54.5   24.2   57.2   33.7   54.    49.5   18.5   25.43  54.    42.8\n 29.3    0.    58.7   43.5   42.1    0.     0.    39.48   0.    59.7\n 30.    39.5   40.     0.    43.5   12.8   26.    50.   ].\nReshape your data either using array.reshape(-1, 1) if your data has a single feature or array.reshape(1, -1) if it contains a single sample.",
     "output_type": "error",
     "traceback": [
      "\u001b[1;31m---------------------------------------------------------------------------\u001b[0m",
      "\u001b[1;31mValueError\u001b[0m                                Traceback (most recent call last)",
      "\u001b[1;32m<ipython-input-105-231435dc6c90>\u001b[0m in \u001b[0;36m<module>\u001b[1;34m\u001b[0m\n\u001b[0;32m      2\u001b[0m \u001b[1;33m\u001b[0m\u001b[0m\n\u001b[0;32m      3\u001b[0m \u001b[0moutlier_detection\u001b[0m \u001b[1;33m=\u001b[0m \u001b[0mDBSCAN\u001b[0m\u001b[1;33m(\u001b[0m\u001b[0mmin_samples\u001b[0m \u001b[1;33m=\u001b[0m \u001b[1;36m2\u001b[0m\u001b[1;33m,\u001b[0m \u001b[0meps\u001b[0m \u001b[1;33m=\u001b[0m\u001b[1;36m3\u001b[0m\u001b[1;33m)\u001b[0m\u001b[1;33m\u001b[0m\u001b[1;33m\u001b[0m\u001b[0m\n\u001b[1;32m----> 4\u001b[1;33m \u001b[0mclusters\u001b[0m \u001b[1;33m=\u001b[0m \u001b[0moutlier_detection\u001b[0m\u001b[1;33m.\u001b[0m\u001b[0mfit_predict\u001b[0m\u001b[1;33m(\u001b[0m\u001b[0mAddedSugarNum\u001b[0m\u001b[1;33m)\u001b[0m\u001b[1;33m\u001b[0m\u001b[1;33m\u001b[0m\u001b[0m\n\u001b[0m\u001b[0;32m      5\u001b[0m \u001b[0mlist\u001b[0m\u001b[1;33m(\u001b[0m\u001b[0mclusters\u001b[0m\u001b[1;33m)\u001b[0m\u001b[1;33m.\u001b[0m\u001b[0mcount\u001b[0m\u001b[1;33m(\u001b[0m\u001b[1;33m-\u001b[0m\u001b[1;36m1\u001b[0m\u001b[1;33m)\u001b[0m\u001b[1;33m\u001b[0m\u001b[1;33m\u001b[0m\u001b[0m\n",
      "\u001b[1;32m~\\Anaconda3\\lib\\site-packages\\sklearn\\cluster\\_dbscan.py\u001b[0m in \u001b[0;36mfit_predict\u001b[1;34m(self, X, y, sample_weight)\u001b[0m\n\u001b[0;32m    389\u001b[0m             \u001b[0mCluster\u001b[0m \u001b[0mlabels\u001b[0m\u001b[1;33m.\u001b[0m \u001b[0mNoisy\u001b[0m \u001b[0msamples\u001b[0m \u001b[0mare\u001b[0m \u001b[0mgiven\u001b[0m \u001b[0mthe\u001b[0m \u001b[0mlabel\u001b[0m \u001b[1;33m-\u001b[0m\u001b[1;36m1.\u001b[0m\u001b[1;33m\u001b[0m\u001b[1;33m\u001b[0m\u001b[0m\n\u001b[0;32m    390\u001b[0m         \"\"\"\n\u001b[1;32m--> 391\u001b[1;33m         \u001b[0mself\u001b[0m\u001b[1;33m.\u001b[0m\u001b[0mfit\u001b[0m\u001b[1;33m(\u001b[0m\u001b[0mX\u001b[0m\u001b[1;33m,\u001b[0m \u001b[0msample_weight\u001b[0m\u001b[1;33m=\u001b[0m\u001b[0msample_weight\u001b[0m\u001b[1;33m)\u001b[0m\u001b[1;33m\u001b[0m\u001b[1;33m\u001b[0m\u001b[0m\n\u001b[0m\u001b[0;32m    392\u001b[0m         \u001b[1;32mreturn\u001b[0m \u001b[0mself\u001b[0m\u001b[1;33m.\u001b[0m\u001b[0mlabels_\u001b[0m\u001b[1;33m\u001b[0m\u001b[1;33m\u001b[0m\u001b[0m\n",
      "\u001b[1;32m~\\Anaconda3\\lib\\site-packages\\sklearn\\cluster\\_dbscan.py\u001b[0m in \u001b[0;36mfit\u001b[1;34m(self, X, y, sample_weight)\u001b[0m\n\u001b[0;32m    310\u001b[0m \u001b[1;33m\u001b[0m\u001b[0m\n\u001b[0;32m    311\u001b[0m         \"\"\"\n\u001b[1;32m--> 312\u001b[1;33m         \u001b[0mX\u001b[0m \u001b[1;33m=\u001b[0m \u001b[0mself\u001b[0m\u001b[1;33m.\u001b[0m\u001b[0m_validate_data\u001b[0m\u001b[1;33m(\u001b[0m\u001b[0mX\u001b[0m\u001b[1;33m,\u001b[0m \u001b[0maccept_sparse\u001b[0m\u001b[1;33m=\u001b[0m\u001b[1;34m'csr'\u001b[0m\u001b[1;33m)\u001b[0m\u001b[1;33m\u001b[0m\u001b[1;33m\u001b[0m\u001b[0m\n\u001b[0m\u001b[0;32m    313\u001b[0m \u001b[1;33m\u001b[0m\u001b[0m\n\u001b[0;32m    314\u001b[0m         \u001b[1;32mif\u001b[0m \u001b[1;32mnot\u001b[0m \u001b[0mself\u001b[0m\u001b[1;33m.\u001b[0m\u001b[0meps\u001b[0m \u001b[1;33m>\u001b[0m \u001b[1;36m0.0\u001b[0m\u001b[1;33m:\u001b[0m\u001b[1;33m\u001b[0m\u001b[1;33m\u001b[0m\u001b[0m\n",
      "\u001b[1;32m~\\Anaconda3\\lib\\site-packages\\sklearn\\base.py\u001b[0m in \u001b[0;36m_validate_data\u001b[1;34m(self, X, y, reset, validate_separately, **check_params)\u001b[0m\n\u001b[0;32m    418\u001b[0m                     \u001b[1;34mf\"requires y to be passed, but the target y is None.\"\u001b[0m\u001b[1;33m\u001b[0m\u001b[1;33m\u001b[0m\u001b[0m\n\u001b[0;32m    419\u001b[0m                 )\n\u001b[1;32m--> 420\u001b[1;33m             \u001b[0mX\u001b[0m \u001b[1;33m=\u001b[0m \u001b[0mcheck_array\u001b[0m\u001b[1;33m(\u001b[0m\u001b[0mX\u001b[0m\u001b[1;33m,\u001b[0m \u001b[1;33m**\u001b[0m\u001b[0mcheck_params\u001b[0m\u001b[1;33m)\u001b[0m\u001b[1;33m\u001b[0m\u001b[1;33m\u001b[0m\u001b[0m\n\u001b[0m\u001b[0;32m    421\u001b[0m             \u001b[0mout\u001b[0m \u001b[1;33m=\u001b[0m \u001b[0mX\u001b[0m\u001b[1;33m\u001b[0m\u001b[1;33m\u001b[0m\u001b[0m\n\u001b[0;32m    422\u001b[0m         \u001b[1;32melse\u001b[0m\u001b[1;33m:\u001b[0m\u001b[1;33m\u001b[0m\u001b[1;33m\u001b[0m\u001b[0m\n",
      "\u001b[1;32m~\\Anaconda3\\lib\\site-packages\\sklearn\\utils\\validation.py\u001b[0m in \u001b[0;36minner_f\u001b[1;34m(*args, **kwargs)\u001b[0m\n\u001b[0;32m     71\u001b[0m                           FutureWarning)\n\u001b[0;32m     72\u001b[0m         \u001b[0mkwargs\u001b[0m\u001b[1;33m.\u001b[0m\u001b[0mupdate\u001b[0m\u001b[1;33m(\u001b[0m\u001b[1;33m{\u001b[0m\u001b[0mk\u001b[0m\u001b[1;33m:\u001b[0m \u001b[0marg\u001b[0m \u001b[1;32mfor\u001b[0m \u001b[0mk\u001b[0m\u001b[1;33m,\u001b[0m \u001b[0marg\u001b[0m \u001b[1;32min\u001b[0m \u001b[0mzip\u001b[0m\u001b[1;33m(\u001b[0m\u001b[0msig\u001b[0m\u001b[1;33m.\u001b[0m\u001b[0mparameters\u001b[0m\u001b[1;33m,\u001b[0m \u001b[0margs\u001b[0m\u001b[1;33m)\u001b[0m\u001b[1;33m}\u001b[0m\u001b[1;33m)\u001b[0m\u001b[1;33m\u001b[0m\u001b[1;33m\u001b[0m\u001b[0m\n\u001b[1;32m---> 73\u001b[1;33m         \u001b[1;32mreturn\u001b[0m \u001b[0mf\u001b[0m\u001b[1;33m(\u001b[0m\u001b[1;33m**\u001b[0m\u001b[0mkwargs\u001b[0m\u001b[1;33m)\u001b[0m\u001b[1;33m\u001b[0m\u001b[1;33m\u001b[0m\u001b[0m\n\u001b[0m\u001b[0;32m     74\u001b[0m     \u001b[1;32mreturn\u001b[0m \u001b[0minner_f\u001b[0m\u001b[1;33m\u001b[0m\u001b[1;33m\u001b[0m\u001b[0m\n\u001b[0;32m     75\u001b[0m \u001b[1;33m\u001b[0m\u001b[0m\n",
      "\u001b[1;32m~\\Anaconda3\\lib\\site-packages\\sklearn\\utils\\validation.py\u001b[0m in \u001b[0;36mcheck_array\u001b[1;34m(array, accept_sparse, accept_large_sparse, dtype, order, copy, force_all_finite, ensure_2d, allow_nd, ensure_min_samples, ensure_min_features, estimator)\u001b[0m\n\u001b[0;32m    618\u001b[0m             \u001b[1;31m# If input is 1D raise error\u001b[0m\u001b[1;33m\u001b[0m\u001b[1;33m\u001b[0m\u001b[1;33m\u001b[0m\u001b[0m\n\u001b[0;32m    619\u001b[0m             \u001b[1;32mif\u001b[0m \u001b[0marray\u001b[0m\u001b[1;33m.\u001b[0m\u001b[0mndim\u001b[0m \u001b[1;33m==\u001b[0m \u001b[1;36m1\u001b[0m\u001b[1;33m:\u001b[0m\u001b[1;33m\u001b[0m\u001b[1;33m\u001b[0m\u001b[0m\n\u001b[1;32m--> 620\u001b[1;33m                 raise ValueError(\n\u001b[0m\u001b[0;32m    621\u001b[0m                     \u001b[1;34m\"Expected 2D array, got 1D array instead:\\narray={}.\\n\"\u001b[0m\u001b[1;33m\u001b[0m\u001b[1;33m\u001b[0m\u001b[0m\n\u001b[0;32m    622\u001b[0m                     \u001b[1;34m\"Reshape your data either using array.reshape(-1, 1) if \"\u001b[0m\u001b[1;33m\u001b[0m\u001b[1;33m\u001b[0m\u001b[0m\n",
      "\u001b[1;31mValueError\u001b[0m: Expected 2D array, got 1D array instead:\narray=[53.    49.5   53.     0.    47.5   40.    44.4   53.    34.    43.\n 31.6   49.4   51.8    0.     0.    61.    42.     0.     0.    35.\n 53.2    0.    46.    57.2   41.8   35.    35.    48.    35.    37.\n 49.8   40.    51.5   43.5    0.    55.    29.    46.5   46.5   40.85\n 53.92  50.5   50.    53.9    0.    55.    25.7    0.     0.     0.\n 46.3   26.    42.    30.7   43.5   43.    38.6   38.5    0.    39.\n 38.5   41.5    0.    53.9   70.96   0.    42.5    0.     0.     0.\n  0.     0.     0.    93.5   50.     0.     0.    76.7    0.     0.\n 48.9    0.    48.     0.    42.5   46.5    0.     0.     0.    42.\n 29.    64.     0.    39.     0.    37.62  41.1    0.    37.62  39.\n  0.     0.    45.47   0.     0.    94.2    0.    56.    31.2    0.\n  0.     1.    46.7    0.    46.    37.5   50.    39.5   30.7    0.\n 51.1    0.    40.    42.    50.    51.1   38.    30.    50.    54.3\n 20.5   41.5   40.5   35.    50.    54.7   50.    30.1   36.    24.\n 44.6   59.4   49.5   39.5   54.     0.    63.    39.5   30.1   37.\n 43.5   26.7   27.    50.2   39.    42.    29.8    0.    48.5   27.\n 40.    43.5   55.     0.    50.41  56.    61.29  35.16  38.37  49.5\n  0.    49.8   40.5   42.56  39.    50.    43.    46.    48.67   0.\n  0.     0.     0.    40.     0.     0.    34.8   49.     0.    46.5\n  0.    39.5   61.1    0.    45.86  47.9   47.9   42.     0.    39.3\n 52.4   39.    61.    25.    33.    39.    22.45  45.37  39.    39.5\n 39.5   39.    38.9   46.     0.7   46.     0.    50.    51.    45.\n 31.1   63.8    0.    35.     0.     0.     0.     0.     0.     0.\n  0.     0.     0.     0.     0.    55.    56.2   50.5    0.    30.5\n 58.    56.8   53.    38.6   47.2   26.5   47.5    0.    37.5   30.7\n  0.    39.     0.    39.     0.    47.1   47.    51.5   39.5   41.1\n 48.7   48.9   46.    58.1    0.    56.7   35.2   43.     0.    48.9\n 48.     0.    57.     0.     0.    34.4    0.    32.4    0.    26.\n 41.    36.9   35.     0.     0.    41.8   47.3   49.    41.    44.7\n 58.     0.    56.     0.    46.    38.4   39.1   51.    16.    43.5\n 40.5   39.5   31.6   43.9   48.5   22.5   33.    31.    50.9   34.\n 36.    40.    49.3   58.     0.1   42.    45.8   55.97  49.6   35.5\n 36.    41.    37.5   38.5   35.4   39.5   50.5   51.3   31.4   30.5\n 30.3   28.8   47.8   46.5   54.5   56.     0.    54.8    0.    36.9\n 23.36   0.    38.5   58.2   47.1   44.     0.    59.5   42.4   47.7\n 40.    39.2   42.1   49.6    0.    52.    33.6   51.    45.7   46.5\n 42.    26.7   29.    31.     0.    59.    42.    54.5   25.6    0.\n 36.     0.    48.    54.4   51.3   25.43   0.    43.65   0.     0.\n 39.    51.    30.7   25.    29.4    0.    58.    33.    51.    42.5\n 31.36  41.7   42.8   31.    49.5   30.    56.5   10.    42.     0.\n  0.    38.2    0.    30.4   60.     0.    35.    40.    27.    41.1\n 38.9   30.48  49.11  30.48   0.    26.    39.5   26.9   33.98  34.98\n  0.     7.7    0.    30.65   0.     0.    46.    28.8   41.1   29.3\n 39.    46.     0.    46.     0.    37.1   43.52  63.1   51.1   35.\n 41.     0.    54.5   43.    36.    20.5   51.5   40.5    0.    42.56\n 43.22  23.6   45.9   34.    27.    55.    47.9   26.    49.5   39.\n  0.    50.    29.    43.08   0.     0.    32.    43.    40.    35.\n  0.    27.4    0.    56.    68.37  39.3   31.    51.     0.    41.8\n 51.     0.    42.8    0.    46.4   34.4   42.    25.5   42.5   42.\n  9.6    0.    45.    38.5   45.5   50.    50.    33.    45.29  36.34\n 39.    31.    34.27  49.    43.     0.5   41.1   50.5    0.    42.5\n 41.    30.65  59.8   39.5   54.    49.8   26.9   41.7    0.     0.\n 25.    50.    12.    37.     0.    30.02  37.81  39.7   37.62  32.\n 28.4   38.    40.7   27.5    0.    25.    20.5   30.9   34.98   0.\n 55.    54.5   44.4   40.     0.    33.3   48.35   0.    54.2   37.\n 39.5   29.8   31.    21.2    0.     0.     0.    46.86  39.5   43.5\n 35.     0.    43.5   34.5    0.    39.    45.8   61.2   46.86  25.43\n 38.5    0.    25.5    0.    43.     0.    25.    25.    25.43  54.\n 31.94  35.     0.    55.    45.4   43.9   32.    32.    44.    33.6\n 29.3   37.     0.    54.    29.3   39.5   39.5   39.5   55.4   55.4\n 25.3   29.3   35.47  31.94  26.    29.07  43.    67.    52.5   45.5\n 43.63  43.63  67.    45.    39.5   39.5   28.1   45.8   51.     0.\n 38.2   35.7    0.    29.3    0.    54.2   46.    22.68  18.5    0.\n 33.3    0.    15.61  29.43  43.5   27.    25.    27.01  31.5   47.5\n 40.9   46.     0.    41.8   40.    49.    36.2    0.    37.62   0.\n 43.    48.8   56.5   39.5   31.1   36.6    0.     0.    45.    90.2\n  0.     0.     0.    29.5    0.     0.     0.     0.     0.     0.\n 33.6   55.    43.65  35.    35.    31.36  43.4   50.     0.    37.4\n  0.    38.5   38.5   38.5    0.    47.2   50.    41.1   49.8   26.554\n 36.    43.    34.5   41.5    0.     0.    27.    43.5   48.5   40.4\n 26.    45.74  45.86  50.21  40.7   39.5   39.     0.6   52.1   30.3\n 36.    40.    39.5    0.     0.5    0.     0.    51.1    0.     0.\n 50.9   45.    35.    41.8   61.2    0.    33.    28.2   41.8   51.5\n 30.     8.5    0.     0.    34.8   42.    51.5   51.    47.3   59.\n 51.    30.9    0.    55.    42.4    0.    23.8   45.    56.5   70.96\n 28.1   52.5   46.    32.2   46.5   57.7   13.7   40.7   55.4   55.\n 57.6   31.    35.4   28.2   32.8   40.9    0.    53.    34.    50.\n 49.    50.5   27.4   39.5   51.    42.    43.9   46.    50.5   31.\n 42.7   51.275 35.    45.47  39.5    0.    38.45  50.    63.8   46.\n 26.    32.5   31.36  22.43  35.    45.7   29.07  30.7   33.98  51.\n 26.    40.5   43.    48.     0.    39.5   39.1   44.7   34.     0.\n  0.    51.5   50.5   40.1   39.5   39.    50.    38.5   28.     0.\n 45.8   50.8   41.8   31.1    0.    33.     0.    41.1   42.    39.5\n 54.5   24.2   57.2   33.7   54.    49.5   18.5   25.43  54.    42.8\n 29.3    0.    58.7   43.5   42.1    0.     0.    39.48   0.    59.7\n 30.    39.5   40.     0.    43.5   12.8   26.    50.   ].\nReshape your data either using array.reshape(-1, 1) if your data has a single feature or array.reshape(1, -1) if it contains a single sample."
     ]
    }
   ],
   "source": [
    "from sklearn.cluster import DBSCAN\n",
    "\n",
    "outlier_detection = DBSCAN(min_samples = 2, eps =3)\n",
    "clusters = outlier_detection.fit_predict(AddedSugarNum)\n",
    "list(clusters).count(-1)"
   ]
  },
  {
   "cell_type": "code",
   "execution_count": 104,
   "metadata": {},
   "outputs": [
    {
     "name": "stderr",
     "output_type": "stream",
     "text": [
      "C:\\Users\\sandesh.bharitkar\\Anaconda3\\lib\\site-packages\\sklearn\\ensemble\\_iforest.py:252: FutureWarning: 'behaviour' is deprecated in 0.22 and will be removed in 0.24. You should not pass or set this parameter.\n",
      "  warn(\n"
     ]
    },
    {
     "ename": "ValueError",
     "evalue": "Expected 2D array, got 1D array instead:\narray=[53.    49.5   53.     0.    47.5   40.    44.4   53.    34.    43.\n 31.6   49.4   51.8    0.     0.    61.    42.     0.     0.    35.\n 53.2    0.    46.    57.2   41.8   35.    35.    48.    35.    37.\n 49.8   40.    51.5   43.5    0.    55.    29.    46.5   46.5   40.85\n 53.92  50.5   50.    53.9    0.    55.    25.7    0.     0.     0.\n 46.3   26.    42.    30.7   43.5   43.    38.6   38.5    0.    39.\n 38.5   41.5    0.    53.9   70.96   0.    42.5    0.     0.     0.\n  0.     0.     0.    93.5   50.     0.     0.    76.7    0.     0.\n 48.9    0.    48.     0.    42.5   46.5    0.     0.     0.    42.\n 29.    64.     0.    39.     0.    37.62  41.1    0.    37.62  39.\n  0.     0.    45.47   0.     0.    94.2    0.    56.    31.2    0.\n  0.     1.    46.7    0.    46.    37.5   50.    39.5   30.7    0.\n 51.1    0.    40.    42.    50.    51.1   38.    30.    50.    54.3\n 20.5   41.5   40.5   35.    50.    54.7   50.    30.1   36.    24.\n 44.6   59.4   49.5   39.5   54.     0.    63.    39.5   30.1   37.\n 43.5   26.7   27.    50.2   39.    42.    29.8    0.    48.5   27.\n 40.    43.5   55.     0.    50.41  56.    61.29  35.16  38.37  49.5\n  0.    49.8   40.5   42.56  39.    50.    43.    46.    48.67   0.\n  0.     0.     0.    40.     0.     0.    34.8   49.     0.    46.5\n  0.    39.5   61.1    0.    45.86  47.9   47.9   42.     0.    39.3\n 52.4   39.    61.    25.    33.    39.    22.45  45.37  39.    39.5\n 39.5   39.    38.9   46.     0.7   46.     0.    50.    51.    45.\n 31.1   63.8    0.    35.     0.     0.     0.     0.     0.     0.\n  0.     0.     0.     0.     0.    55.    56.2   50.5    0.    30.5\n 58.    56.8   53.    38.6   47.2   26.5   47.5    0.    37.5   30.7\n  0.    39.     0.    39.     0.    47.1   47.    51.5   39.5   41.1\n 48.7   48.9   46.    58.1    0.    56.7   35.2   43.     0.    48.9\n 48.     0.    57.     0.     0.    34.4    0.    32.4    0.    26.\n 41.    36.9   35.     0.     0.    41.8   47.3   49.    41.    44.7\n 58.     0.    56.     0.    46.    38.4   39.1   51.    16.    43.5\n 40.5   39.5   31.6   43.9   48.5   22.5   33.    31.    50.9   34.\n 36.    40.    49.3   58.     0.1   42.    45.8   55.97  49.6   35.5\n 36.    41.    37.5   38.5   35.4   39.5   50.5   51.3   31.4   30.5\n 30.3   28.8   47.8   46.5   54.5   56.     0.    54.8    0.    36.9\n 23.36   0.    38.5   58.2   47.1   44.     0.    59.5   42.4   47.7\n 40.    39.2   42.1   49.6    0.    52.    33.6   51.    45.7   46.5\n 42.    26.7   29.    31.     0.    59.    42.    54.5   25.6    0.\n 36.     0.    48.    54.4   51.3   25.43   0.    43.65   0.     0.\n 39.    51.    30.7   25.    29.4    0.    58.    33.    51.    42.5\n 31.36  41.7   42.8   31.    49.5   30.    56.5   10.    42.     0.\n  0.    38.2    0.    30.4   60.     0.    35.    40.    27.    41.1\n 38.9   30.48  49.11  30.48   0.    26.    39.5   26.9   33.98  34.98\n  0.     7.7    0.    30.65   0.     0.    46.    28.8   41.1   29.3\n 39.    46.     0.    46.     0.    37.1   43.52  63.1   51.1   35.\n 41.     0.    54.5   43.    36.    20.5   51.5   40.5    0.    42.56\n 43.22  23.6   45.9   34.    27.    55.    47.9   26.    49.5   39.\n  0.    50.    29.    43.08   0.     0.    32.    43.    40.    35.\n  0.    27.4    0.    56.    68.37  39.3   31.    51.     0.    41.8\n 51.     0.    42.8    0.    46.4   34.4   42.    25.5   42.5   42.\n  9.6    0.    45.    38.5   45.5   50.    50.    33.    45.29  36.34\n 39.    31.    34.27  49.    43.     0.5   41.1   50.5    0.    42.5\n 41.    30.65  59.8   39.5   54.    49.8   26.9   41.7    0.     0.\n 25.    50.    12.    37.     0.    30.02  37.81  39.7   37.62  32.\n 28.4   38.    40.7   27.5    0.    25.    20.5   30.9   34.98   0.\n 55.    54.5   44.4   40.     0.    33.3   48.35   0.    54.2   37.\n 39.5   29.8   31.    21.2    0.     0.     0.    46.86  39.5   43.5\n 35.     0.    43.5   34.5    0.    39.    45.8   61.2   46.86  25.43\n 38.5    0.    25.5    0.    43.     0.    25.    25.    25.43  54.\n 31.94  35.     0.    55.    45.4   43.9   32.    32.    44.    33.6\n 29.3   37.     0.    54.    29.3   39.5   39.5   39.5   55.4   55.4\n 25.3   29.3   35.47  31.94  26.    29.07  43.    67.    52.5   45.5\n 43.63  43.63  67.    45.    39.5   39.5   28.1   45.8   51.     0.\n 38.2   35.7    0.    29.3    0.    54.2   46.    22.68  18.5    0.\n 33.3    0.    15.61  29.43  43.5   27.    25.    27.01  31.5   47.5\n 40.9   46.     0.    41.8   40.    49.    36.2    0.    37.62   0.\n 43.    48.8   56.5   39.5   31.1   36.6    0.     0.    45.    90.2\n  0.     0.     0.    29.5    0.     0.     0.     0.     0.     0.\n 33.6   55.    43.65  35.    35.    31.36  43.4   50.     0.    37.4\n  0.    38.5   38.5   38.5    0.    47.2   50.    41.1   49.8   26.554\n 36.    43.    34.5   41.5    0.     0.    27.    43.5   48.5   40.4\n 26.    45.74  45.86  50.21  40.7   39.5   39.     0.6   52.1   30.3\n 36.    40.    39.5    0.     0.5    0.     0.    51.1    0.     0.\n 50.9   45.    35.    41.8   61.2    0.    33.    28.2   41.8   51.5\n 30.     8.5    0.     0.    34.8   42.    51.5   51.    47.3   59.\n 51.    30.9    0.    55.    42.4    0.    23.8   45.    56.5   70.96\n 28.1   52.5   46.    32.2   46.5   57.7   13.7   40.7   55.4   55.\n 57.6   31.    35.4   28.2   32.8   40.9    0.    53.    34.    50.\n 49.    50.5   27.4   39.5   51.    42.    43.9   46.    50.5   31.\n 42.7   51.275 35.    45.47  39.5    0.    38.45  50.    63.8   46.\n 26.    32.5   31.36  22.43  35.    45.7   29.07  30.7   33.98  51.\n 26.    40.5   43.    48.     0.    39.5   39.1   44.7   34.     0.\n  0.    51.5   50.5   40.1   39.5   39.    50.    38.5   28.     0.\n 45.8   50.8   41.8   31.1    0.    33.     0.    41.1   42.    39.5\n 54.5   24.2   57.2   33.7   54.    49.5   18.5   25.43  54.    42.8\n 29.3    0.    58.7   43.5   42.1    0.     0.    39.48   0.    59.7\n 30.    39.5   40.     0.    43.5   12.8   26.    50.   ].\nReshape your data either using array.reshape(-1, 1) if your data has a single feature or array.reshape(1, -1) if it contains a single sample.",
     "output_type": "error",
     "traceback": [
      "\u001b[1;31m---------------------------------------------------------------------------\u001b[0m",
      "\u001b[1;31mValueError\u001b[0m                                Traceback (most recent call last)",
      "\u001b[1;32m<ipython-input-104-83809c512a8e>\u001b[0m in \u001b[0;36m<module>\u001b[1;34m\u001b[0m\n\u001b[0;32m      2\u001b[0m \u001b[1;33m\u001b[0m\u001b[0m\n\u001b[0;32m      3\u001b[0m \u001b[0mclf\u001b[0m \u001b[1;33m=\u001b[0m \u001b[0mIsolationForest\u001b[0m\u001b[1;33m(\u001b[0m \u001b[0mbehaviour\u001b[0m \u001b[1;33m=\u001b[0m \u001b[1;34m'new'\u001b[0m\u001b[1;33m,\u001b[0m \u001b[0mmax_samples\u001b[0m\u001b[1;33m=\u001b[0m\u001b[1;36m100\u001b[0m\u001b[1;33m,\u001b[0m \u001b[0mrandom_state\u001b[0m \u001b[1;33m=\u001b[0m \u001b[1;36m1\u001b[0m\u001b[1;33m,\u001b[0m \u001b[0mcontamination\u001b[0m\u001b[1;33m=\u001b[0m \u001b[1;34m'auto'\u001b[0m\u001b[1;33m)\u001b[0m\u001b[1;33m\u001b[0m\u001b[1;33m\u001b[0m\u001b[0m\n\u001b[1;32m----> 4\u001b[1;33m \u001b[0mpreds\u001b[0m \u001b[1;33m=\u001b[0m \u001b[0mclf\u001b[0m\u001b[1;33m.\u001b[0m\u001b[0mfit_predict\u001b[0m\u001b[1;33m(\u001b[0m\u001b[0mAddedSugarNum\u001b[0m\u001b[1;33m)\u001b[0m\u001b[1;33m\u001b[0m\u001b[1;33m\u001b[0m\u001b[0m\n\u001b[0m\u001b[0;32m      5\u001b[0m \u001b[0mpreds\u001b[0m\u001b[1;33m\u001b[0m\u001b[1;33m\u001b[0m\u001b[0m\n",
      "\u001b[1;32m~\\Anaconda3\\lib\\site-packages\\sklearn\\base.py\u001b[0m in \u001b[0;36mfit_predict\u001b[1;34m(self, X, y)\u001b[0m\n\u001b[0;32m    738\u001b[0m         \"\"\"\n\u001b[0;32m    739\u001b[0m         \u001b[1;31m# override for transductive outlier detectors like LocalOulierFactor\u001b[0m\u001b[1;33m\u001b[0m\u001b[1;33m\u001b[0m\u001b[1;33m\u001b[0m\u001b[0m\n\u001b[1;32m--> 740\u001b[1;33m         \u001b[1;32mreturn\u001b[0m \u001b[0mself\u001b[0m\u001b[1;33m.\u001b[0m\u001b[0mfit\u001b[0m\u001b[1;33m(\u001b[0m\u001b[0mX\u001b[0m\u001b[1;33m)\u001b[0m\u001b[1;33m.\u001b[0m\u001b[0mpredict\u001b[0m\u001b[1;33m(\u001b[0m\u001b[0mX\u001b[0m\u001b[1;33m)\u001b[0m\u001b[1;33m\u001b[0m\u001b[1;33m\u001b[0m\u001b[0m\n\u001b[0m\u001b[0;32m    741\u001b[0m \u001b[1;33m\u001b[0m\u001b[0m\n\u001b[0;32m    742\u001b[0m \u001b[1;33m\u001b[0m\u001b[0m\n",
      "\u001b[1;32m~\\Anaconda3\\lib\\site-packages\\sklearn\\ensemble\\_iforest.py\u001b[0m in \u001b[0;36mfit\u001b[1;34m(self, X, y, sample_weight)\u001b[0m\n\u001b[0;32m    261\u001b[0m                 )\n\u001b[0;32m    262\u001b[0m \u001b[1;33m\u001b[0m\u001b[0m\n\u001b[1;32m--> 263\u001b[1;33m         \u001b[0mX\u001b[0m \u001b[1;33m=\u001b[0m \u001b[0mcheck_array\u001b[0m\u001b[1;33m(\u001b[0m\u001b[0mX\u001b[0m\u001b[1;33m,\u001b[0m \u001b[0maccept_sparse\u001b[0m\u001b[1;33m=\u001b[0m\u001b[1;33m[\u001b[0m\u001b[1;34m'csc'\u001b[0m\u001b[1;33m]\u001b[0m\u001b[1;33m)\u001b[0m\u001b[1;33m\u001b[0m\u001b[1;33m\u001b[0m\u001b[0m\n\u001b[0m\u001b[0;32m    264\u001b[0m         \u001b[1;32mif\u001b[0m \u001b[0missparse\u001b[0m\u001b[1;33m(\u001b[0m\u001b[0mX\u001b[0m\u001b[1;33m)\u001b[0m\u001b[1;33m:\u001b[0m\u001b[1;33m\u001b[0m\u001b[1;33m\u001b[0m\u001b[0m\n\u001b[0;32m    265\u001b[0m             \u001b[1;31m# Pre-sort indices to avoid that each individual tree of the\u001b[0m\u001b[1;33m\u001b[0m\u001b[1;33m\u001b[0m\u001b[1;33m\u001b[0m\u001b[0m\n",
      "\u001b[1;32m~\\Anaconda3\\lib\\site-packages\\sklearn\\utils\\validation.py\u001b[0m in \u001b[0;36minner_f\u001b[1;34m(*args, **kwargs)\u001b[0m\n\u001b[0;32m     71\u001b[0m                           FutureWarning)\n\u001b[0;32m     72\u001b[0m         \u001b[0mkwargs\u001b[0m\u001b[1;33m.\u001b[0m\u001b[0mupdate\u001b[0m\u001b[1;33m(\u001b[0m\u001b[1;33m{\u001b[0m\u001b[0mk\u001b[0m\u001b[1;33m:\u001b[0m \u001b[0marg\u001b[0m \u001b[1;32mfor\u001b[0m \u001b[0mk\u001b[0m\u001b[1;33m,\u001b[0m \u001b[0marg\u001b[0m \u001b[1;32min\u001b[0m \u001b[0mzip\u001b[0m\u001b[1;33m(\u001b[0m\u001b[0msig\u001b[0m\u001b[1;33m.\u001b[0m\u001b[0mparameters\u001b[0m\u001b[1;33m,\u001b[0m \u001b[0margs\u001b[0m\u001b[1;33m)\u001b[0m\u001b[1;33m}\u001b[0m\u001b[1;33m)\u001b[0m\u001b[1;33m\u001b[0m\u001b[1;33m\u001b[0m\u001b[0m\n\u001b[1;32m---> 73\u001b[1;33m         \u001b[1;32mreturn\u001b[0m \u001b[0mf\u001b[0m\u001b[1;33m(\u001b[0m\u001b[1;33m**\u001b[0m\u001b[0mkwargs\u001b[0m\u001b[1;33m)\u001b[0m\u001b[1;33m\u001b[0m\u001b[1;33m\u001b[0m\u001b[0m\n\u001b[0m\u001b[0;32m     74\u001b[0m     \u001b[1;32mreturn\u001b[0m \u001b[0minner_f\u001b[0m\u001b[1;33m\u001b[0m\u001b[1;33m\u001b[0m\u001b[0m\n\u001b[0;32m     75\u001b[0m \u001b[1;33m\u001b[0m\u001b[0m\n",
      "\u001b[1;32m~\\Anaconda3\\lib\\site-packages\\sklearn\\utils\\validation.py\u001b[0m in \u001b[0;36mcheck_array\u001b[1;34m(array, accept_sparse, accept_large_sparse, dtype, order, copy, force_all_finite, ensure_2d, allow_nd, ensure_min_samples, ensure_min_features, estimator)\u001b[0m\n\u001b[0;32m    618\u001b[0m             \u001b[1;31m# If input is 1D raise error\u001b[0m\u001b[1;33m\u001b[0m\u001b[1;33m\u001b[0m\u001b[1;33m\u001b[0m\u001b[0m\n\u001b[0;32m    619\u001b[0m             \u001b[1;32mif\u001b[0m \u001b[0marray\u001b[0m\u001b[1;33m.\u001b[0m\u001b[0mndim\u001b[0m \u001b[1;33m==\u001b[0m \u001b[1;36m1\u001b[0m\u001b[1;33m:\u001b[0m\u001b[1;33m\u001b[0m\u001b[1;33m\u001b[0m\u001b[0m\n\u001b[1;32m--> 620\u001b[1;33m                 raise ValueError(\n\u001b[0m\u001b[0;32m    621\u001b[0m                     \u001b[1;34m\"Expected 2D array, got 1D array instead:\\narray={}.\\n\"\u001b[0m\u001b[1;33m\u001b[0m\u001b[1;33m\u001b[0m\u001b[0m\n\u001b[0;32m    622\u001b[0m                     \u001b[1;34m\"Reshape your data either using array.reshape(-1, 1) if \"\u001b[0m\u001b[1;33m\u001b[0m\u001b[1;33m\u001b[0m\u001b[0m\n",
      "\u001b[1;31mValueError\u001b[0m: Expected 2D array, got 1D array instead:\narray=[53.    49.5   53.     0.    47.5   40.    44.4   53.    34.    43.\n 31.6   49.4   51.8    0.     0.    61.    42.     0.     0.    35.\n 53.2    0.    46.    57.2   41.8   35.    35.    48.    35.    37.\n 49.8   40.    51.5   43.5    0.    55.    29.    46.5   46.5   40.85\n 53.92  50.5   50.    53.9    0.    55.    25.7    0.     0.     0.\n 46.3   26.    42.    30.7   43.5   43.    38.6   38.5    0.    39.\n 38.5   41.5    0.    53.9   70.96   0.    42.5    0.     0.     0.\n  0.     0.     0.    93.5   50.     0.     0.    76.7    0.     0.\n 48.9    0.    48.     0.    42.5   46.5    0.     0.     0.    42.\n 29.    64.     0.    39.     0.    37.62  41.1    0.    37.62  39.\n  0.     0.    45.47   0.     0.    94.2    0.    56.    31.2    0.\n  0.     1.    46.7    0.    46.    37.5   50.    39.5   30.7    0.\n 51.1    0.    40.    42.    50.    51.1   38.    30.    50.    54.3\n 20.5   41.5   40.5   35.    50.    54.7   50.    30.1   36.    24.\n 44.6   59.4   49.5   39.5   54.     0.    63.    39.5   30.1   37.\n 43.5   26.7   27.    50.2   39.    42.    29.8    0.    48.5   27.\n 40.    43.5   55.     0.    50.41  56.    61.29  35.16  38.37  49.5\n  0.    49.8   40.5   42.56  39.    50.    43.    46.    48.67   0.\n  0.     0.     0.    40.     0.     0.    34.8   49.     0.    46.5\n  0.    39.5   61.1    0.    45.86  47.9   47.9   42.     0.    39.3\n 52.4   39.    61.    25.    33.    39.    22.45  45.37  39.    39.5\n 39.5   39.    38.9   46.     0.7   46.     0.    50.    51.    45.\n 31.1   63.8    0.    35.     0.     0.     0.     0.     0.     0.\n  0.     0.     0.     0.     0.    55.    56.2   50.5    0.    30.5\n 58.    56.8   53.    38.6   47.2   26.5   47.5    0.    37.5   30.7\n  0.    39.     0.    39.     0.    47.1   47.    51.5   39.5   41.1\n 48.7   48.9   46.    58.1    0.    56.7   35.2   43.     0.    48.9\n 48.     0.    57.     0.     0.    34.4    0.    32.4    0.    26.\n 41.    36.9   35.     0.     0.    41.8   47.3   49.    41.    44.7\n 58.     0.    56.     0.    46.    38.4   39.1   51.    16.    43.5\n 40.5   39.5   31.6   43.9   48.5   22.5   33.    31.    50.9   34.\n 36.    40.    49.3   58.     0.1   42.    45.8   55.97  49.6   35.5\n 36.    41.    37.5   38.5   35.4   39.5   50.5   51.3   31.4   30.5\n 30.3   28.8   47.8   46.5   54.5   56.     0.    54.8    0.    36.9\n 23.36   0.    38.5   58.2   47.1   44.     0.    59.5   42.4   47.7\n 40.    39.2   42.1   49.6    0.    52.    33.6   51.    45.7   46.5\n 42.    26.7   29.    31.     0.    59.    42.    54.5   25.6    0.\n 36.     0.    48.    54.4   51.3   25.43   0.    43.65   0.     0.\n 39.    51.    30.7   25.    29.4    0.    58.    33.    51.    42.5\n 31.36  41.7   42.8   31.    49.5   30.    56.5   10.    42.     0.\n  0.    38.2    0.    30.4   60.     0.    35.    40.    27.    41.1\n 38.9   30.48  49.11  30.48   0.    26.    39.5   26.9   33.98  34.98\n  0.     7.7    0.    30.65   0.     0.    46.    28.8   41.1   29.3\n 39.    46.     0.    46.     0.    37.1   43.52  63.1   51.1   35.\n 41.     0.    54.5   43.    36.    20.5   51.5   40.5    0.    42.56\n 43.22  23.6   45.9   34.    27.    55.    47.9   26.    49.5   39.\n  0.    50.    29.    43.08   0.     0.    32.    43.    40.    35.\n  0.    27.4    0.    56.    68.37  39.3   31.    51.     0.    41.8\n 51.     0.    42.8    0.    46.4   34.4   42.    25.5   42.5   42.\n  9.6    0.    45.    38.5   45.5   50.    50.    33.    45.29  36.34\n 39.    31.    34.27  49.    43.     0.5   41.1   50.5    0.    42.5\n 41.    30.65  59.8   39.5   54.    49.8   26.9   41.7    0.     0.\n 25.    50.    12.    37.     0.    30.02  37.81  39.7   37.62  32.\n 28.4   38.    40.7   27.5    0.    25.    20.5   30.9   34.98   0.\n 55.    54.5   44.4   40.     0.    33.3   48.35   0.    54.2   37.\n 39.5   29.8   31.    21.2    0.     0.     0.    46.86  39.5   43.5\n 35.     0.    43.5   34.5    0.    39.    45.8   61.2   46.86  25.43\n 38.5    0.    25.5    0.    43.     0.    25.    25.    25.43  54.\n 31.94  35.     0.    55.    45.4   43.9   32.    32.    44.    33.6\n 29.3   37.     0.    54.    29.3   39.5   39.5   39.5   55.4   55.4\n 25.3   29.3   35.47  31.94  26.    29.07  43.    67.    52.5   45.5\n 43.63  43.63  67.    45.    39.5   39.5   28.1   45.8   51.     0.\n 38.2   35.7    0.    29.3    0.    54.2   46.    22.68  18.5    0.\n 33.3    0.    15.61  29.43  43.5   27.    25.    27.01  31.5   47.5\n 40.9   46.     0.    41.8   40.    49.    36.2    0.    37.62   0.\n 43.    48.8   56.5   39.5   31.1   36.6    0.     0.    45.    90.2\n  0.     0.     0.    29.5    0.     0.     0.     0.     0.     0.\n 33.6   55.    43.65  35.    35.    31.36  43.4   50.     0.    37.4\n  0.    38.5   38.5   38.5    0.    47.2   50.    41.1   49.8   26.554\n 36.    43.    34.5   41.5    0.     0.    27.    43.5   48.5   40.4\n 26.    45.74  45.86  50.21  40.7   39.5   39.     0.6   52.1   30.3\n 36.    40.    39.5    0.     0.5    0.     0.    51.1    0.     0.\n 50.9   45.    35.    41.8   61.2    0.    33.    28.2   41.8   51.5\n 30.     8.5    0.     0.    34.8   42.    51.5   51.    47.3   59.\n 51.    30.9    0.    55.    42.4    0.    23.8   45.    56.5   70.96\n 28.1   52.5   46.    32.2   46.5   57.7   13.7   40.7   55.4   55.\n 57.6   31.    35.4   28.2   32.8   40.9    0.    53.    34.    50.\n 49.    50.5   27.4   39.5   51.    42.    43.9   46.    50.5   31.\n 42.7   51.275 35.    45.47  39.5    0.    38.45  50.    63.8   46.\n 26.    32.5   31.36  22.43  35.    45.7   29.07  30.7   33.98  51.\n 26.    40.5   43.    48.     0.    39.5   39.1   44.7   34.     0.\n  0.    51.5   50.5   40.1   39.5   39.    50.    38.5   28.     0.\n 45.8   50.8   41.8   31.1    0.    33.     0.    41.1   42.    39.5\n 54.5   24.2   57.2   33.7   54.    49.5   18.5   25.43  54.    42.8\n 29.3    0.    58.7   43.5   42.1    0.     0.    39.48   0.    59.7\n 30.    39.5   40.     0.    43.5   12.8   26.    50.   ].\nReshape your data either using array.reshape(-1, 1) if your data has a single feature or array.reshape(1, -1) if it contains a single sample."
     ]
    }
   ],
   "source": [
    "\n",
    "from sklearn.ensemble import IsolationForest\n",
    "\n",
    "clf = IsolationForest( behaviour = 'new', max_samples=100, random_state = 1, contamination= 'auto')\n",
    "preds = clf.fit_predict(AddedSugarNum)\n",
    "preds"
   ]
  },
  {
   "cell_type": "code",
   "execution_count": null,
   "metadata": {},
   "outputs": [],
   "source": []
  }
 ],
 "metadata": {
  "kernelspec": {
   "display_name": "Python 3",
   "language": "python",
   "name": "python3"
  },
  "language_info": {
   "codemirror_mode": {
    "name": "ipython",
    "version": 3
   },
   "file_extension": ".py",
   "mimetype": "text/x-python",
   "name": "python",
   "nbconvert_exporter": "python",
   "pygments_lexer": "ipython3",
   "version": "3.8.3"
  }
 },
 "nbformat": 4,
 "nbformat_minor": 4
}
