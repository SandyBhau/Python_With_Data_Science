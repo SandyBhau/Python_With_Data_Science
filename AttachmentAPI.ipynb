{
 "cells": [
  {
   "cell_type": "code",
   "execution_count": 1,
   "metadata": {},
   "outputs": [],
   "source": [
    "import requests"
   ]
  },
  {
   "cell_type": "code",
   "execution_count": 2,
   "metadata": {},
   "outputs": [],
   "source": [
    "headers = {\n",
    "    'Accept': 'application/xml',\n",
    "#    'content-type': 'multipart/form-data',\n",
    "    'X-COUPA-API-KEY': '83a2d9a99500ad2a6b502f777c1fdcc84fd59b53'\n",
    "}"
   ]
  },
  {
   "cell_type": "code",
   "execution_count": 4,
   "metadata": {},
   "outputs": [],
   "source": [
    "files = {\n",
    "    'attachment[file]': ('C://RPA//NonUnileverAttachment.xlsx', open('C://RPA//NonUnileverAttachment.xlsx', 'rb')),\n",
    "    'attachment[type]': (None, 'file'),\n",
    "}"
   ]
  },
  {
   "cell_type": "code",
   "execution_count": 5,
   "metadata": {},
   "outputs": [],
   "source": [
    "response = requests.post('https://unilever-test.coupahost.com/api/requisitions/198388/attachments', headers=headers, files=files)"
   ]
  },
  {
   "cell_type": "code",
   "execution_count": 6,
   "metadata": {},
   "outputs": [
    {
     "name": "stdout",
     "output_type": "stream",
     "text": [
      "<?xml version=\"1.0\" encoding=\"UTF-8\"?>\n",
      "<attachment-file>\n",
      "  <id type=\"integer\">14156835</id>\n",
      "  <created-at type=\"dateTime\">2021-08-09T08:31:12-04:00</created-at>\n",
      "  <updated-at type=\"dateTime\">2021-08-09T08:31:12-04:00</updated-at>\n",
      "  <type>AttachmentFile</type>\n",
      "  <intent>Internal</intent>\n",
      "  <file>unilever-test.coupahost.com/attachment_files/files/14156835/original/NonUnileverAttachment.xlsx</file>\n",
      "  <file-url>https://unilever-test.coupahost.com/attachment/attachment_file/file/14156835/NonUnileverAttachment.xlsx</file-url>\n",
      "</attachment-file>\n",
      "\n"
     ]
    }
   ],
   "source": [
    "print(response.text)"
   ]
  },
  {
   "cell_type": "code",
   "execution_count": null,
   "metadata": {},
   "outputs": [],
   "source": []
  }
 ],
 "metadata": {
  "kernelspec": {
   "display_name": "Python 3",
   "language": "python",
   "name": "python3"
  }
 },
 "nbformat": 4,
 "nbformat_minor": 2
}
