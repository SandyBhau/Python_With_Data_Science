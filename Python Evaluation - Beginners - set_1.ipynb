{
 "cells": [
  {
   "cell_type": "markdown",
   "metadata": {},
   "source": [
    "# Python Evaluation - Beginners - Set 1"
   ]
  },
  {
   "cell_type": "markdown",
   "metadata": {},
   "source": [
    "# ------------------------------------------------\n",
    "### Your name: Sandesh Bharitkar\n",
    "# \n",
    "# ------------------------------------------------"
   ]
  },
  {
   "cell_type": "markdown",
   "metadata": {},
   "source": [
    "## Section 1: MCQs\n"
   ]
  },
  {
   "cell_type": "markdown",
   "metadata": {},
   "source": [
    "1. There are 22 questions\n",
    "2. Add an empty cell after each question and just write the correct option(s)\n",
    "3. It is recommended (not mandatory) to complete these within 30 mins \n",
    "4. Few questions can have multiple options correct, wherein you have to mark all of the correct ones. No marks awarded for partial correct answers\n",
    "5. No negative marking. Go crazy\n"
   ]
  },
  {
   "cell_type": "raw",
   "metadata": {},
   "source": [
    "1. What is the output of the following loop\n",
    "   for l in 'Jhon':\n",
    "   if l == 'o':\n",
    "      pass\n",
    "   print(l, end=\", \")\n",
    "\n",
    "  a) J, h, n,\n",
    "  b) J, h, o, n,\n",
    "  c) J, h,\n",
    "  d) Syntax Error"
   ]
  },
  {
   "cell_type": "code",
   "execution_count": null,
   "metadata": {},
   "outputs": [],
   "source": [
    "b"
   ]
  },
  {
   "cell_type": "raw",
   "metadata": {},
   "source": [
    "2. Given a function that does not return any value, What value is thrown by default when executed in shell.\n",
    "\n",
    "    a) int\n",
    "    b) bool\n",
    "    c) void\n",
    "    d) None"
   ]
  },
  {
   "cell_type": "code",
   "execution_count": null,
   "metadata": {},
   "outputs": [],
   "source": [
    "c"
   ]
  },
  {
   "cell_type": "raw",
   "metadata": {},
   "source": [
    "3. What is the output of print('[%c]' % 65)\n",
    "   \n",
    "   a) 65\n",
    "   b) A\n",
    "   c) [A]\n",
    "   d) Syntax Error"
   ]
  },
  {
   "cell_type": "code",
   "execution_count": null,
   "metadata": {},
   "outputs": [],
   "source": [
    "c"
   ]
  },
  {
   "cell_type": "raw",
   "metadata": {},
   "source": [
    "4. Which of the following is an invalid statement?\n",
    "\n",
    "   a) abc = 5,000,000\n",
    "   b) a b c = 500 2000 3000\n",
    "   c) a,b,c = 500, 2000, 3000\n",
    "   d) a_b_c = 1,000,000\n"
   ]
  },
  {
   "cell_type": "code",
   "execution_count": null,
   "metadata": {},
   "outputs": [],
   "source": [
    "b "
   ]
  },
  {
   "cell_type": "raw",
   "metadata": {},
   "source": [
    "5. What will be the output of the following Python code?\n",
    "    i = 1\n",
    "    while True:\n",
    "        if i%3 == 0:\n",
    "            break\n",
    "        print(i)\n",
    "\n",
    "        i + = 1\n",
    "        \n",
    "   a) 1 2\n",
    "   b) 1 2 3\n",
    "   c) error\n",
    "   d) none of the mentioned\n"
   ]
  },
  {
   "cell_type": "code",
   "execution_count": null,
   "metadata": {},
   "outputs": [],
   "source": [
    "d \n",
    "\n",
    "Infinite Loop"
   ]
  },
  {
   "cell_type": "raw",
   "metadata": {},
   "source": [
    "6. What is the output of this code?\n",
    "   a,b = 1,0\n",
    "   a = a^b\n",
    "   b = a^b\n",
    "   a = a^b\n",
    "   print(a)"
   ]
  },
  {
   "cell_type": "code",
   "execution_count": null,
   "metadata": {},
   "outputs": [],
   "source": [
    "0"
   ]
  },
  {
   "cell_type": "raw",
   "metadata": {},
   "source": [
    "7. What is the value of the var after the for loop completes its execution\n",
    "    var = 10\n",
    "    for i in range(10):\n",
    "        for j in range(2, 10, 1):\n",
    "            if var % 2 == 0:\n",
    "                continue\n",
    "                var += 1\n",
    "        var+=1\n",
    "    else:\n",
    "        var+=1\n",
    "    print(var)\n",
    "    \n",
    "   a) 20\n",
    "   b) 21\n",
    "   c) 10\n",
    "   d) 30"
   ]
  },
  {
   "cell_type": "code",
   "execution_count": null,
   "metadata": {},
   "outputs": [],
   "source": [
    "d"
   ]
  },
  {
   "cell_type": "raw",
   "metadata": {},
   "source": [
    "8. What is the output of the following string comparison\n",
    "    print(\"John\" > \"Jhon\")\n",
    "    print(\"Emma\" < \"Emm\")\n",
    "    \n",
    "   a) True\n",
    "      False\n",
    "   b) False\n",
    "      False"
   ]
  },
  {
   "cell_type": "code",
   "execution_count": null,
   "metadata": {},
   "outputs": [],
   "source": [
    "a"
   ]
  },
  {
   "cell_type": "raw",
   "metadata": {},
   "source": [
    "9. Guess the correct output of the following code?\n",
    "    str1 = \"PYnative\"\n",
    "    print(str1[1:4], str1[:5], str1[4:], str1[0:-1], str1[:-1])\n",
    "    \n",
    "  a) PYn PYnat ive PYnativ vitanYP\n",
    "  b) Yna PYnat tive PYnativ vitanYP\n",
    "  c) Yna PYnat tive PYnativ PYnativ\n"
   ]
  },
  {
   "cell_type": "code",
   "execution_count": null,
   "metadata": {},
   "outputs": [],
   "source": [
    "c"
   ]
  },
  {
   "cell_type": "raw",
   "metadata": {},
   "source": [
    "10. What is the output of the following set operation\n",
    "    set1 = {\"Yellow\", \"Orange\", \"Black\"}\n",
    "    set2 = {\"Orange\", \"Blue\", \"Pink\"}\n",
    "\n",
    "    set1.difference_update(set2)\n",
    "    print(set1)\n",
    "    \n",
    "   a) {‘Black’, ‘Yellow’}\n",
    "   b) {‘Yellow’, ‘Orange’, ‘Black’, ‘Blue’, ‘Pink’}"
   ]
  },
  {
   "cell_type": "code",
   "execution_count": null,
   "metadata": {},
   "outputs": [],
   "source": [
    "a"
   ]
  },
  {
   "cell_type": "raw",
   "metadata": {},
   "source": [
    "11. What will be the output of the following Python code snippet?\n",
    "    test = {1:'A', 2:'B', 3:'C'}\n",
    "    del test[1]\n",
    "    test[1] = 'D'\n",
    "    del test[2]\n",
    "    print(len(test))\n",
    "    \n",
    "    a) 0\n",
    "    b) 2\n",
    "    c) Error as the key-value pair of 1:’A’ is already deleted\n",
    "    d) 1"
   ]
  },
  {
   "cell_type": "code",
   "execution_count": null,
   "metadata": {},
   "outputs": [],
   "source": [
    "b"
   ]
  },
  {
   "cell_type": "raw",
   "metadata": {},
   "source": [
    "12. Suppose d = {“john”:40, “peter”:45}, what happens when we try to retrieve a value using the expression d[“susan”]?\n",
    "\n",
    "  a) Since “susan” is not a value in the set, Python raises a KeyError exception\n",
    "  b) It is executed fine and no exception is raised, and it returns None\n",
    "  c) Since “susan” is not a key in the set, Python raises a KeyError exception\n",
    "  d) Since “susan” is not a key in the set, Python raises a syntax error\n"
   ]
  },
  {
   "cell_type": "code",
   "execution_count": null,
   "metadata": {},
   "outputs": [],
   "source": [
    "c"
   ]
  },
  {
   "cell_type": "raw",
   "metadata": {},
   "source": [
    "13. Is the following Python code valid?\n",
    "    a={3,4,{7,5}}\n",
    "    print(a[2][0])\n",
    "    \n",
    "    a) Yes, 7 is printed\n",
    "    b) Error, elements of a set can’t be printed\n",
    "    c) Error, subsets aren’t allowed\n",
    "    d) Yes, {7,5} is printed"
   ]
  },
  {
   "cell_type": "code",
   "execution_count": null,
   "metadata": {},
   "outputs": [],
   "source": [
    "c"
   ]
  },
  {
   "cell_type": "raw",
   "metadata": {},
   "source": [
    "14. What is the output of the following list comprehension\n",
    "   resList = [x+y for x in ['Hello ', 'Good '] for y in ['Dear', 'Bye']]\n",
    "   print(resList)\n",
    "\n",
    "  a) [‘Hello Dear’, ‘Hello Bye’, ‘Good Dear’, ‘Good Bye’]\n",
    "  b) [‘Hello Dear’, ‘Good Dear’, ‘Hello Bye’, ‘Good Bye’]"
   ]
  },
  {
   "cell_type": "code",
   "execution_count": null,
   "metadata": {},
   "outputs": [],
   "source": [
    "a"
   ]
  },
  {
   "cell_type": "raw",
   "metadata": {},
   "source": [
    "15. What is the output of the following\n",
    "   l = [None] * 10\n",
    "   print(len(l))\n",
    "   \n",
    "   a) 10\n",
    "   b) 0\n",
    "   c) Syntax Error"
   ]
  },
  {
   "cell_type": "code",
   "execution_count": null,
   "metadata": {},
   "outputs": [],
   "source": [
    "a"
   ]
  },
  {
   "cell_type": "raw",
   "metadata": {},
   "source": [
    "16. Please select all correct ways to empty the following dictionary\n",
    "    student = { \n",
    "      \"name\": \"Emma\", \n",
    "      \"class\": 9, \n",
    "      \"marks\": 75 \n",
    "    }\n",
    "    \n",
    "    a) del student\n",
    "    b) del student[0:2]\n",
    "    c) student.clear()"
   ]
  },
  {
   "cell_type": "code",
   "execution_count": null,
   "metadata": {},
   "outputs": [],
   "source": [
    "c"
   ]
  },
  {
   "cell_type": "raw",
   "metadata": {},
   "source": [
    "17. Choose the correct way to access value 20 from the following tuple\n",
    "   aTuple = (\"Orange\", [10, 20, 30], (5, 15, 25))\n",
    "\n",
    "    a) aTuple[1:2][1]\n",
    "    b) aTuple[1:2](1)\n",
    "    c) aTuple[1:2][1]\n",
    "    d) aTuple[1][1]"
   ]
  },
  {
   "cell_type": "code",
   "execution_count": null,
   "metadata": {},
   "outputs": [],
   "source": [
    "d"
   ]
  },
  {
   "cell_type": "raw",
   "metadata": {},
   "source": [
    "18. What is the output of the following code\n",
    "   list1 = ['xyz', 'zara', 'PYnative']\n",
    "   print (max(list1))\n",
    "\n",
    "   a) PYnative\n",
    "   b) zara\n",
    "   c) 8\n",
    "   d) Syntax Error"
   ]
  },
  {
   "cell_type": "code",
   "execution_count": null,
   "metadata": {},
   "outputs": [],
   "source": [
    "b"
   ]
  },
  {
   "cell_type": "raw",
   "metadata": {},
   "source": [
    "19. What will be the output of the following Python code?\n",
    "    def writer():\n",
    "        title = 'Sir'\n",
    "        name = (lambda x:title + ' ' + x)\n",
    "        return name\n",
    "\n",
    "    who = writer()\n",
    "    who('Arthur')\n",
    "    \n",
    "    a) Arthur Sir\n",
    "    b) Sir Arthur\n",
    "    c) Arthur\n",
    "    d) None of the mentioned"
   ]
  },
  {
   "cell_type": "code",
   "execution_count": null,
   "metadata": {},
   "outputs": [],
   "source": [
    "b"
   ]
  },
  {
   "cell_type": "raw",
   "metadata": {},
   "source": [
    "20. Select true statements regarding the Python tuple\n",
    "   \n",
    "    a) We can remove the item from tuple but we cannot update items of the tuple\n",
    "    b) We cannot delete the tuple\n",
    "    c) We cannot remove the items from the tuple\n",
    "    d) We cannot update items of the tuple"
   ]
  },
  {
   "cell_type": "code",
   "execution_count": null,
   "metadata": {},
   "outputs": [],
   "source": [
    "c"
   ]
  },
  {
   "cell_type": "raw",
   "metadata": {},
   "source": [
    "21. What is the output of the following display() function call\n",
    "    def display(**kwargs):\n",
    "        for i in kwargs:\n",
    "            print(i)\n",
    "    display(emp=\"Kelly\", salary=9000)\n",
    "    \n",
    "    a) TypeError\n",
    "    b) Kelly\n",
    "       9000\n",
    "    c) (’emp’, ‘Kelly’)\n",
    "       (‘salary’, 9000)\n",
    "    d) emp\n",
    "       salary"
   ]
  },
  {
   "cell_type": "code",
   "execution_count": null,
   "metadata": {},
   "outputs": [],
   "source": [
    "d"
   ]
  },
  {
   "cell_type": "raw",
   "metadata": {},
   "source": [
    "22. Select which is true for Python function\n",
    "\n",
    "    a) A Python function can return only a single value\n",
    "    b) A function can take an unlimited number of arguments.\n",
    "    c) A Python function can return multiple values\n",
    "    d) Python function doesn’t return anything unless and until you add a return statement\n"
   ]
  },
  {
   "cell_type": "code",
   "execution_count": null,
   "metadata": {},
   "outputs": [],
   "source": [
    "d"
   ]
  },
  {
   "cell_type": "markdown",
   "metadata": {},
   "source": [
    "# -------------------------------------------------------"
   ]
  },
  {
   "cell_type": "markdown",
   "metadata": {},
   "source": [
    "## Section 2: Coding Exercises"
   ]
  },
  {
   "cell_type": "markdown",
   "metadata": {},
   "source": [
    "1. There are 2 questions - each having few subquestions\n",
    "2. Add empty cells after each question and write the code. You can execute the code any number of times\n",
    "3. There are multiple ways in which each question can be answered. You will be evaluated on approach, even if the final answer is not correct\n",
    "4. Use only pandas, numpy and any base Python functions. Try not to use any extra python packages\n",
    "\n",
    "# -------------------------------------------------------"
   ]
  },
  {
   "cell_type": "markdown",
   "metadata": {},
   "source": [
    "### 1. Consider the paragraph below and write scripts to satisfy the questions that follow."
   ]
  },
  {
   "cell_type": "raw",
   "metadata": {},
   "source": [
    "\"I mean, nobody wishes more than I do that it had all been quick and clean, and my head had come off properly, I mean, it would have saved me a great deal of pain and ridicule. However, Nearly Headless Nick shook his letter open and read furiously: We can only accept huntsmen whose heads have parted company with their bodies. You will appreciate that it would be impossible otherwise for members to participate in hunt activities such as Horseback Head-Juggling and Head Polo. It is with the greatest regret, therefore, that I must inform you that you do not fulfill our requirements. With very best wishes, Sir Patrick Delaney-Podmore.\""
   ]
  },
  {
   "cell_type": "markdown",
   "metadata": {},
   "source": [
    "#### 1.1. Store the above paragraph in a variable and split them to get all words in a list"
   ]
  },
  {
   "cell_type": "code",
   "execution_count": 29,
   "metadata": {},
   "outputs": [],
   "source": [
    "var = \"I mean, nobody wishes more than I do that it had all been quick and clean, and my head had come off properly, I mean, it would have saved me a great deal of pain and ridicule. However, Nearly Headless Nick shook his letter open and read furiously: We can only accept huntsmen whose heads have parted company with their bodies. You will appreciate that it would be impossible otherwise for members to participate in hunt activities such as Horseback Head-Juggling and Head Polo. It is with the greatest regret, therefore, that I must inform you that you do not fulfill our requirements. With very best wishes, Sir Patrick Delaney-Podmore.\""
   ]
  },
  {
   "cell_type": "code",
   "execution_count": 30,
   "metadata": {},
   "outputs": [
    {
     "data": {
      "text/plain": [
       "'I mean nobody wishes more than I do that it had all been quick and clean and my head had come off properly I mean it would have saved me a great deal of pain and ridicule However Nearly Headless Nick shook his letter open and read furiously We can only accept huntsmen whose heads have parted company with their bodies You will appreciate that it would be impossible otherwise for members to participate in hunt activities such as Horseback Head Juggling and Head Polo It is with the greatest regret therefore that I must inform you that you do not fulfill our requirements With very best wishes Sir Patrick Delaney Podmore '"
      ]
     },
     "execution_count": 30,
     "metadata": {},
     "output_type": "execute_result"
    }
   ],
   "source": [
    "import re\n",
    "var = re.sub('[^A-Za-z0-9]+',' ',var)\n",
    "var"
   ]
  },
  {
   "cell_type": "code",
   "execution_count": 31,
   "metadata": {},
   "outputs": [],
   "source": [
    "import pandas as pd\n",
    "import numpy as np"
   ]
  },
  {
   "cell_type": "code",
   "execution_count": 40,
   "metadata": {},
   "outputs": [],
   "source": [
    "list_var = list(var.split(\" \"))"
   ]
  },
  {
   "cell_type": "code",
   "execution_count": null,
   "metadata": {},
   "outputs": [],
   "source": []
  },
  {
   "cell_type": "code",
   "execution_count": 33,
   "metadata": {},
   "outputs": [
    {
     "data": {
      "text/plain": [
       "['I',\n",
       " 'mean',\n",
       " 'nobody',\n",
       " 'wishes',\n",
       " 'more',\n",
       " 'than',\n",
       " 'I',\n",
       " 'do',\n",
       " 'that',\n",
       " 'it',\n",
       " 'had',\n",
       " 'all',\n",
       " 'been',\n",
       " 'quick',\n",
       " 'and',\n",
       " 'clean',\n",
       " 'and',\n",
       " 'my',\n",
       " 'head',\n",
       " 'had',\n",
       " 'come',\n",
       " 'off',\n",
       " 'properly',\n",
       " 'I',\n",
       " 'mean',\n",
       " 'it',\n",
       " 'would',\n",
       " 'have',\n",
       " 'saved',\n",
       " 'me',\n",
       " 'a',\n",
       " 'great',\n",
       " 'deal',\n",
       " 'of',\n",
       " 'pain',\n",
       " 'and',\n",
       " 'ridicule',\n",
       " 'However',\n",
       " 'Nearly',\n",
       " 'Headless',\n",
       " 'Nick',\n",
       " 'shook',\n",
       " 'his',\n",
       " 'letter',\n",
       " 'open',\n",
       " 'and',\n",
       " 'read',\n",
       " 'furiously',\n",
       " 'We',\n",
       " 'can',\n",
       " 'only',\n",
       " 'accept',\n",
       " 'huntsmen',\n",
       " 'whose',\n",
       " 'heads',\n",
       " 'have',\n",
       " 'parted',\n",
       " 'company',\n",
       " 'with',\n",
       " 'their',\n",
       " 'bodies',\n",
       " 'You',\n",
       " 'will',\n",
       " 'appreciate',\n",
       " 'that',\n",
       " 'it',\n",
       " 'would',\n",
       " 'be',\n",
       " 'impossible',\n",
       " 'otherwise',\n",
       " 'for',\n",
       " 'members',\n",
       " 'to',\n",
       " 'participate',\n",
       " 'in',\n",
       " 'hunt',\n",
       " 'activities',\n",
       " 'such',\n",
       " 'as',\n",
       " 'Horseback',\n",
       " 'Head',\n",
       " 'Juggling',\n",
       " 'and',\n",
       " 'Head',\n",
       " 'Polo',\n",
       " 'It',\n",
       " 'is',\n",
       " 'with',\n",
       " 'the',\n",
       " 'greatest',\n",
       " 'regret',\n",
       " 'therefore',\n",
       " 'that',\n",
       " 'I',\n",
       " 'must',\n",
       " 'inform',\n",
       " 'you',\n",
       " 'that',\n",
       " 'you',\n",
       " 'do',\n",
       " 'not',\n",
       " 'fulfill',\n",
       " 'our',\n",
       " 'requirements',\n",
       " 'With',\n",
       " 'very',\n",
       " 'best',\n",
       " 'wishes',\n",
       " 'Sir',\n",
       " 'Patrick',\n",
       " 'Delaney',\n",
       " 'Podmore',\n",
       " '']"
      ]
     },
     "execution_count": 33,
     "metadata": {},
     "output_type": "execute_result"
    }
   ],
   "source": [
    "type(list_var)\n",
    "list_var"
   ]
  },
  {
   "cell_type": "markdown",
   "metadata": {},
   "source": [
    "#### 1.2. Get only unique words from this list"
   ]
  },
  {
   "cell_type": "code",
   "execution_count": 34,
   "metadata": {},
   "outputs": [],
   "source": [
    "Copy_list = set(list_var)"
   ]
  },
  {
   "cell_type": "code",
   "execution_count": 35,
   "metadata": {},
   "outputs": [
    {
     "name": "stdout",
     "output_type": "stream",
     "text": [
      "Unique Values are - 92 from 113\n"
     ]
    }
   ],
   "source": [
    "unique_list = list(Copy_list)\n",
    "print(\"Unique Values are - \" + str(len(unique_list)) + \" from \" + str(len(list_var)))"
   ]
  },
  {
   "cell_type": "code",
   "execution_count": 41,
   "metadata": {},
   "outputs": [],
   "source": [
    "smallList = []\n",
    "for valText in list_var:\n",
    "    smallList.append(valText.lower())"
   ]
  },
  {
   "cell_type": "code",
   "execution_count": 42,
   "metadata": {
    "scrolled": true
   },
   "outputs": [
    {
     "data": {
      "text/plain": [
       "['i',\n",
       " 'mean',\n",
       " 'nobody',\n",
       " 'wishes',\n",
       " 'more',\n",
       " 'than',\n",
       " 'do',\n",
       " 'that',\n",
       " 'it',\n",
       " 'had',\n",
       " 'all',\n",
       " 'been',\n",
       " 'quick',\n",
       " 'and',\n",
       " 'clean',\n",
       " 'my',\n",
       " 'head',\n",
       " 'come',\n",
       " 'off',\n",
       " 'properly',\n",
       " 'would',\n",
       " 'have',\n",
       " 'saved',\n",
       " 'me',\n",
       " 'a',\n",
       " 'great',\n",
       " 'deal',\n",
       " 'of',\n",
       " 'pain',\n",
       " 'ridicule',\n",
       " 'however',\n",
       " 'nearly',\n",
       " 'headless',\n",
       " 'nick',\n",
       " 'shook',\n",
       " 'his',\n",
       " 'letter',\n",
       " 'open',\n",
       " 'read',\n",
       " 'furiously',\n",
       " 'we',\n",
       " 'can',\n",
       " 'only',\n",
       " 'accept',\n",
       " 'huntsmen',\n",
       " 'whose',\n",
       " 'heads',\n",
       " 'parted',\n",
       " 'company',\n",
       " 'with',\n",
       " 'their',\n",
       " 'bodies',\n",
       " 'you',\n",
       " 'will',\n",
       " 'appreciate',\n",
       " 'be',\n",
       " 'impossible',\n",
       " 'otherwise',\n",
       " 'for',\n",
       " 'members',\n",
       " 'to',\n",
       " 'participate',\n",
       " 'in',\n",
       " 'hunt',\n",
       " 'activities',\n",
       " 'such',\n",
       " 'as',\n",
       " 'horseback',\n",
       " 'juggling',\n",
       " 'polo',\n",
       " 'is',\n",
       " 'the',\n",
       " 'greatest',\n",
       " 'regret',\n",
       " 'therefore',\n",
       " 'must',\n",
       " 'inform',\n",
       " 'not',\n",
       " 'fulfill',\n",
       " 'our',\n",
       " 'requirements',\n",
       " 'very',\n",
       " 'best',\n",
       " 'sir',\n",
       " 'patrick',\n",
       " 'delaney',\n",
       " 'podmore',\n",
       " '']"
      ]
     },
     "execution_count": 42,
     "metadata": {},
     "output_type": "execute_result"
    }
   ],
   "source": [
    "unqlist = []\n",
    "for valText in smallList:\n",
    "    if valText not in unqlist:\n",
    "        unqlist.append(valText)\n",
    "unqlist"
   ]
  },
  {
   "cell_type": "code",
   "execution_count": 43,
   "metadata": {},
   "outputs": [
    {
     "name": "stdout",
     "output_type": "stream",
     "text": [
      "Unique Values are - 88 from 113\n"
     ]
    }
   ],
   "source": [
    "print(\"Unique Values are - \" + str(len(unqlist)) + \" from \" + str(len(list_var)))"
   ]
  },
  {
   "cell_type": "code",
   "execution_count": 44,
   "metadata": {
    "scrolled": true
   },
   "outputs": [
    {
     "data": {
      "text/plain": [
       "['i',\n",
       " 'mean',\n",
       " 'nobody',\n",
       " 'wishes',\n",
       " 'more',\n",
       " 'than',\n",
       " 'do',\n",
       " 'that',\n",
       " 'it',\n",
       " 'had',\n",
       " 'all',\n",
       " 'been',\n",
       " 'quick',\n",
       " 'and',\n",
       " 'clean',\n",
       " 'my',\n",
       " 'head',\n",
       " 'come',\n",
       " 'off',\n",
       " 'properly',\n",
       " 'would',\n",
       " 'have',\n",
       " 'saved',\n",
       " 'me',\n",
       " 'a',\n",
       " 'great',\n",
       " 'deal',\n",
       " 'of',\n",
       " 'pain',\n",
       " 'ridicule',\n",
       " 'however',\n",
       " 'nearly',\n",
       " 'headless',\n",
       " 'nick',\n",
       " 'shook',\n",
       " 'his',\n",
       " 'letter',\n",
       " 'open',\n",
       " 'read',\n",
       " 'furiously',\n",
       " 'we',\n",
       " 'can',\n",
       " 'only',\n",
       " 'accept',\n",
       " 'huntsmen',\n",
       " 'whose',\n",
       " 'heads',\n",
       " 'parted',\n",
       " 'company',\n",
       " 'with',\n",
       " 'their',\n",
       " 'bodies',\n",
       " 'you',\n",
       " 'will',\n",
       " 'appreciate',\n",
       " 'be',\n",
       " 'impossible',\n",
       " 'otherwise',\n",
       " 'for',\n",
       " 'members',\n",
       " 'to',\n",
       " 'participate',\n",
       " 'in',\n",
       " 'hunt',\n",
       " 'activities',\n",
       " 'such',\n",
       " 'as',\n",
       " 'horseback',\n",
       " 'juggling',\n",
       " 'polo',\n",
       " 'is',\n",
       " 'the',\n",
       " 'greatest',\n",
       " 'regret',\n",
       " 'therefore',\n",
       " 'must',\n",
       " 'inform',\n",
       " 'not',\n",
       " 'fulfill',\n",
       " 'our',\n",
       " 'requirements',\n",
       " 'very',\n",
       " 'best',\n",
       " 'sir',\n",
       " 'patrick',\n",
       " 'delaney',\n",
       " 'podmore',\n",
       " '']"
      ]
     },
     "execution_count": 44,
     "metadata": {},
     "output_type": "execute_result"
    }
   ],
   "source": [
    "unqlist"
   ]
  },
  {
   "cell_type": "markdown",
   "metadata": {},
   "source": [
    "#### 1.3. Create a dictionary from the list with *keys* = all unique words and *values* = frequency of occurrence of each word"
   ]
  },
  {
   "cell_type": "code",
   "execution_count": 45,
   "metadata": {},
   "outputs": [],
   "source": [
    "dict_unique = dict()\n",
    "for key_val in unqlist:\n",
    "    dict_unique.update({key_val : smallList.count(key_val)})\n"
   ]
  },
  {
   "cell_type": "code",
   "execution_count": 46,
   "metadata": {},
   "outputs": [
    {
     "data": {
      "text/plain": [
       "4"
      ]
     },
     "execution_count": 46,
     "metadata": {},
     "output_type": "execute_result"
    }
   ],
   "source": [
    "smallList.count('i')"
   ]
  },
  {
   "cell_type": "code",
   "execution_count": null,
   "metadata": {},
   "outputs": [],
   "source": []
  },
  {
   "cell_type": "markdown",
   "metadata": {},
   "source": [
    "#### 1.4. Create a pandas dataframe from this dictionary with columns *keys* and *values* and sort descending of values"
   ]
  },
  {
   "cell_type": "code",
   "execution_count": 47,
   "metadata": {},
   "outputs": [],
   "source": [
    "#pd.DataFrame.from_dict(dict_unique ,orient='index',columns=['keys', 'values'])\n",
    "df= pd.DataFrame([dict_unique.keys(), dict_unique.values()]).T\n",
    "df.columns= ['keys', 'values']  "
   ]
  },
  {
   "cell_type": "code",
   "execution_count": 48,
   "metadata": {},
   "outputs": [
    {
     "data": {
      "text/html": [
       "<div>\n",
       "<style scoped>\n",
       "    .dataframe tbody tr th:only-of-type {\n",
       "        vertical-align: middle;\n",
       "    }\n",
       "\n",
       "    .dataframe tbody tr th {\n",
       "        vertical-align: top;\n",
       "    }\n",
       "\n",
       "    .dataframe thead th {\n",
       "        text-align: right;\n",
       "    }\n",
       "</style>\n",
       "<table border=\"1\" class=\"dataframe\">\n",
       "  <thead>\n",
       "    <tr style=\"text-align: right;\">\n",
       "      <th></th>\n",
       "      <th>keys</th>\n",
       "      <th>values</th>\n",
       "    </tr>\n",
       "  </thead>\n",
       "  <tbody>\n",
       "    <tr>\n",
       "      <th>0</th>\n",
       "      <td>i</td>\n",
       "      <td>4</td>\n",
       "    </tr>\n",
       "    <tr>\n",
       "      <th>1</th>\n",
       "      <td>mean</td>\n",
       "      <td>2</td>\n",
       "    </tr>\n",
       "    <tr>\n",
       "      <th>2</th>\n",
       "      <td>nobody</td>\n",
       "      <td>1</td>\n",
       "    </tr>\n",
       "    <tr>\n",
       "      <th>3</th>\n",
       "      <td>wishes</td>\n",
       "      <td>2</td>\n",
       "    </tr>\n",
       "    <tr>\n",
       "      <th>4</th>\n",
       "      <td>more</td>\n",
       "      <td>1</td>\n",
       "    </tr>\n",
       "  </tbody>\n",
       "</table>\n",
       "</div>"
      ],
      "text/plain": [
       "     keys values\n",
       "0       i      4\n",
       "1    mean      2\n",
       "2  nobody      1\n",
       "3  wishes      2\n",
       "4    more      1"
      ]
     },
     "execution_count": 48,
     "metadata": {},
     "output_type": "execute_result"
    }
   ],
   "source": [
    "df.head()"
   ]
  },
  {
   "cell_type": "code",
   "execution_count": 55,
   "metadata": {},
   "outputs": [
    {
     "data": {
      "text/html": [
       "<div>\n",
       "<style scoped>\n",
       "    .dataframe tbody tr th:only-of-type {\n",
       "        vertical-align: middle;\n",
       "    }\n",
       "\n",
       "    .dataframe tbody tr th {\n",
       "        vertical-align: top;\n",
       "    }\n",
       "\n",
       "    .dataframe thead th {\n",
       "        text-align: right;\n",
       "    }\n",
       "</style>\n",
       "<table border=\"1\" class=\"dataframe\">\n",
       "  <thead>\n",
       "    <tr style=\"text-align: right;\">\n",
       "      <th></th>\n",
       "      <th>keys</th>\n",
       "      <th>values</th>\n",
       "    </tr>\n",
       "  </thead>\n",
       "  <tbody>\n",
       "    <tr>\n",
       "      <th>43</th>\n",
       "      <td>accept</td>\n",
       "      <td>1</td>\n",
       "    </tr>\n",
       "    <tr>\n",
       "      <th>63</th>\n",
       "      <td>hunt</td>\n",
       "      <td>1</td>\n",
       "    </tr>\n",
       "    <tr>\n",
       "      <th>62</th>\n",
       "      <td>in</td>\n",
       "      <td>1</td>\n",
       "    </tr>\n",
       "    <tr>\n",
       "      <th>61</th>\n",
       "      <td>participate</td>\n",
       "      <td>1</td>\n",
       "    </tr>\n",
       "    <tr>\n",
       "      <th>60</th>\n",
       "      <td>to</td>\n",
       "      <td>1</td>\n",
       "    </tr>\n",
       "  </tbody>\n",
       "</table>\n",
       "</div>"
      ],
      "text/plain": [
       "           keys values\n",
       "43       accept      1\n",
       "63         hunt      1\n",
       "62           in      1\n",
       "61  participate      1\n",
       "60           to      1"
      ]
     },
     "execution_count": 55,
     "metadata": {},
     "output_type": "execute_result"
    }
   ],
   "source": [
    "df_sort = df.sort_values(by=['values'])\n",
    "df_sort.head()"
   ]
  },
  {
   "cell_type": "code",
   "execution_count": 57,
   "metadata": {},
   "outputs": [
    {
     "data": {
      "text/plain": [
       "4"
      ]
     },
     "execution_count": 57,
     "metadata": {},
     "output_type": "execute_result"
    }
   ],
   "source": [
    "dict_unique[\"i\"]"
   ]
  },
  {
   "cell_type": "code",
   "execution_count": 61,
   "metadata": {},
   "outputs": [],
   "source": [
    "x = dict_unique.values()"
   ]
  },
  {
   "cell_type": "code",
   "execution_count": 64,
   "metadata": {},
   "outputs": [],
   "source": [
    "xlist = list(x)"
   ]
  },
  {
   "cell_type": "code",
   "execution_count": 65,
   "metadata": {},
   "outputs": [],
   "source": [
    "tlist = tuple(xlist)"
   ]
  },
  {
   "cell_type": "code",
   "execution_count": 66,
   "metadata": {},
   "outputs": [
    {
     "data": {
      "text/plain": [
       "tuple"
      ]
     },
     "execution_count": 66,
     "metadata": {},
     "output_type": "execute_result"
    }
   ],
   "source": [
    "type(tlist)"
   ]
  },
  {
   "cell_type": "code",
   "execution_count": 67,
   "metadata": {},
   "outputs": [
    {
     "data": {
      "text/plain": [
       "113"
      ]
     },
     "execution_count": 67,
     "metadata": {},
     "output_type": "execute_result"
    }
   ],
   "source": [
    "sumval = 0\n",
    "for xval in tlist:\n",
    "    sumval = sumval + xval\n",
    "sumval"
   ]
  },
  {
   "cell_type": "code",
   "execution_count": null,
   "metadata": {},
   "outputs": [],
   "source": []
  },
  {
   "cell_type": "code",
   "execution_count": null,
   "metadata": {},
   "outputs": [],
   "source": []
  },
  {
   "cell_type": "markdown",
   "metadata": {},
   "source": [
    "#### 1.5. Create a tuple of only the *values* from the dictionary and find the sum to get total count of words"
   ]
  },
  {
   "cell_type": "code",
   "execution_count": 53,
   "metadata": {},
   "outputs": [
    {
     "name": "stdout",
     "output_type": "stream",
     "text": [
      "(('i', 4), ('mean', 2), ('nobody', 1), ('wishes', 2), ('more', 1), ('than', 1), ('do', 2), ('that', 4), ('it', 4), ('had', 2), ('all', 1), ('been', 1), ('quick', 1), ('and', 5), ('clean', 1), ('my', 1), ('head', 3), ('come', 1), ('off', 1), ('properly', 1), ('would', 2), ('have', 2), ('saved', 1), ('me', 1), ('a', 1), ('great', 1), ('deal', 1), ('of', 1), ('pain', 1), ('ridicule', 1), ('however', 1), ('nearly', 1), ('headless', 1), ('nick', 1), ('shook', 1), ('his', 1), ('letter', 1), ('open', 1), ('read', 1), ('furiously', 1), ('we', 1), ('can', 1), ('only', 1), ('accept', 1), ('huntsmen', 1), ('whose', 1), ('heads', 1), ('parted', 1), ('company', 1), ('with', 3), ('their', 1), ('bodies', 1), ('you', 3), ('will', 1), ('appreciate', 1), ('be', 1), ('impossible', 1), ('otherwise', 1), ('for', 1), ('members', 1), ('to', 1), ('participate', 1), ('in', 1), ('hunt', 1), ('activities', 1), ('such', 1), ('as', 1), ('horseback', 1), ('juggling', 1), ('polo', 1), ('is', 1), ('the', 1), ('greatest', 1), ('regret', 1), ('therefore', 1), ('must', 1), ('inform', 1), ('not', 1), ('fulfill', 1), ('our', 1), ('requirements', 1), ('very', 1), ('best', 1), ('sir', 1), ('patrick', 1), ('delaney', 1), ('podmore', 1), ('', 1))\n"
     ]
    }
   ],
   "source": [
    "a_view = dict_unique.items()\n",
    "a_list = list(a_view)\n",
    "t_list = tuple(a_list)\n",
    "print(t_list)"
   ]
  },
  {
   "cell_type": "code",
   "execution_count": 54,
   "metadata": {},
   "outputs": [
    {
     "ename": "AttributeError",
     "evalue": "'dict_items' object has no attribute 'count'",
     "output_type": "error",
     "traceback": [
      "\u001b[1;31m---------------------------------------------------------------------------\u001b[0m",
      "\u001b[1;31mAttributeError\u001b[0m                            Traceback (most recent call last)",
      "\u001b[1;32m<ipython-input-54-acd8b300fd35>\u001b[0m in \u001b[0;36m<module>\u001b[1;34m\u001b[0m\n\u001b[1;32m----> 1\u001b[1;33m \u001b[0mdict_unique\u001b[0m\u001b[1;33m.\u001b[0m\u001b[0mitems\u001b[0m\u001b[1;33m(\u001b[0m\u001b[1;33m)\u001b[0m\u001b[1;33m.\u001b[0m\u001b[0mcount\u001b[0m\u001b[1;33m(\u001b[0m\u001b[1;33m)\u001b[0m\u001b[1;33m\u001b[0m\u001b[1;33m\u001b[0m\u001b[0m\n\u001b[0m",
      "\u001b[1;31mAttributeError\u001b[0m: 'dict_items' object has no attribute 'count'"
     ]
    }
   ],
   "source": [
    "dict_unique.items().count()"
   ]
  },
  {
   "cell_type": "code",
   "execution_count": 51,
   "metadata": {},
   "outputs": [
    {
     "name": "stdout",
     "output_type": "stream",
     "text": [
      "<class 'tuple'>\n"
     ]
    }
   ],
   "source": [
    "print(type(t_list))"
   ]
  },
  {
   "cell_type": "code",
   "execution_count": 52,
   "metadata": {},
   "outputs": [
    {
     "ename": "TypeError",
     "evalue": "unsupported operand type(s) for +: 'int' and 'str'",
     "output_type": "error",
     "traceback": [
      "\u001b[1;31m---------------------------------------------------------------------------\u001b[0m",
      "\u001b[1;31mTypeError\u001b[0m                                 Traceback (most recent call last)",
      "\u001b[1;32m<ipython-input-52-ea69d773a61f>\u001b[0m in \u001b[0;36m<module>\u001b[1;34m\u001b[0m\n\u001b[1;32m----> 1\u001b[1;33m \u001b[0msum\u001b[0m\u001b[1;33m(\u001b[0m\u001b[0mlist\u001b[0m\u001b[1;33m(\u001b[0m\u001b[0mmap\u001b[0m\u001b[1;33m(\u001b[0m\u001b[0msum\u001b[0m\u001b[1;33m,\u001b[0m \u001b[0mlist\u001b[0m\u001b[1;33m(\u001b[0m\u001b[0mt_list\u001b[0m\u001b[1;33m)\u001b[0m\u001b[1;33m)\u001b[0m\u001b[1;33m)\u001b[0m\u001b[1;33m)\u001b[0m\u001b[1;33m\u001b[0m\u001b[1;33m\u001b[0m\u001b[0m\n\u001b[0m",
      "\u001b[1;31mTypeError\u001b[0m: unsupported operand type(s) for +: 'int' and 'str'"
     ]
    }
   ],
   "source": [
    "sum(list(map(sum, list(t_list))))"
   ]
  },
  {
   "cell_type": "markdown",
   "metadata": {},
   "source": [
    "#### 1.6. Validate the count of words obtained from the tuple and total count of words from pandas dataframe"
   ]
  },
  {
   "cell_type": "code",
   "execution_count": 47,
   "metadata": {},
   "outputs": [
    {
     "data": {
      "text/plain": [
       "keys      musthadHeadlesstocansuchbeenHeadaNickletterasc...\n",
       "values                                                  110\n",
       "dtype: object"
      ]
     },
     "execution_count": 47,
     "metadata": {},
     "output_type": "execute_result"
    }
   ],
   "source": [
    "df.sum(axis = 0, skipna = True)"
   ]
  },
  {
   "cell_type": "markdown",
   "metadata": {},
   "source": [
    "#### 1.7. Write a function that takes count as input and gives output of list of words having the specific user entry count\n",
    "Example:\n",
    "\n",
    "Input: 4\n",
    "\n",
    "Output: ['I', 'that']\n",
    "\n",
    "Please note that the output is in the form of list"
   ]
  },
  {
   "cell_type": "code",
   "execution_count": null,
   "metadata": {},
   "outputs": [],
   "source": []
  },
  {
   "cell_type": "markdown",
   "metadata": {},
   "source": [
    "# -------------------------------------------------------"
   ]
  },
  {
   "cell_type": "markdown",
   "metadata": {},
   "source": [
    "### 2. Consider the following list of teams: ['Aus', 'Ind', 'Pak']\n",
    "    \n",
    "    Write a code to get the list of all unique matches that can be played among these teams.\n",
    "    The output of your code should be:\n",
    "    Aus vs Ind\n",
    "    Ind vs Pak\n",
    "    Aus vs Pak\n",
    "    \n",
    "    Please note that matches should not get repeated. (Aus vs Ind) and (Ind vs Aus) are considered to be the same match. \n",
    "    \n",
    "    Make your code dynamic, so that when more number of teams are added in the list, the code generates appropriate results. You can test your code with the following list entry:    \n",
    "    ['Aus', 'Ind', 'RSA', 'NZ', 'Eng', 'Pak']"
   ]
  },
  {
   "cell_type": "code",
   "execution_count": 58,
   "metadata": {},
   "outputs": [
    {
     "name": "stdout",
     "output_type": "stream",
     "text": [
      "Aus vs Ind\n",
      "Aus vs RSA\n",
      "Aus vs NZ\n",
      "Aus vs Eng\n",
      "Aus vs Pak\n",
      "Ind vs Aus\n",
      "Ind vs RSA\n",
      "Ind vs NZ\n",
      "Ind vs Eng\n",
      "Ind vs Pak\n",
      "RSA vs Aus\n",
      "RSA vs Ind\n",
      "RSA vs NZ\n",
      "RSA vs Eng\n",
      "RSA vs Pak\n",
      "NZ vs Aus\n",
      "NZ vs Ind\n",
      "NZ vs RSA\n",
      "NZ vs Eng\n",
      "NZ vs Pak\n",
      "Eng vs Aus\n",
      "Eng vs Ind\n",
      "Eng vs RSA\n",
      "Eng vs NZ\n",
      "Eng vs Pak\n",
      "Pak vs Aus\n",
      "Pak vs Ind\n",
      "Pak vs RSA\n",
      "Pak vs NZ\n",
      "Pak vs Eng\n"
     ]
    }
   ],
   "source": [
    "list_country = ['Aus', 'Ind', 'RSA', 'NZ', 'Eng', 'Pak']\n",
    "#dup = []\n",
    "#flag = True\n",
    "for x in list_country:\n",
    "    for y in list_country:\n",
    "        if x != y:\n",
    "            #flag = True\n",
    "            #for z in dup:\n",
    "             #   if (x+y) == z:\n",
    "              #      flag = False\n",
    "               #     break\n",
    "                #if flag == True:\n",
    "                 #   dup.appendup(x+y)\n",
    "                    print(x + \" vs \" + y )"
   ]
  },
  {
   "cell_type": "code",
   "execution_count": 68,
   "metadata": {},
   "outputs": [],
   "source": [
    "list_country = ['Aus', 'Ind', 'RSA', 'NZ', 'Eng', 'Pak']"
   ]
  },
  {
   "cell_type": "code",
   "execution_count": 85,
   "metadata": {},
   "outputs": [
    {
     "name": "stdout",
     "output_type": "stream",
     "text": [
      "Aus vs Ind\n",
      "Aus vs RSA\n",
      "Aus vs NZ\n",
      "Aus vs Eng\n",
      "Aus vs Pak\n",
      "Ind vs RSA\n",
      "Ind vs NZ\n",
      "Ind vs Eng\n",
      "Ind vs Pak\n",
      "RSA vs NZ\n",
      "RSA vs Eng\n",
      "RSA vs Pak\n",
      "NZ vs Eng\n",
      "NZ vs Pak\n",
      "Eng vs Pak\n"
     ]
    }
   ],
   "source": [
    "i=-1\n",
    "for xval in list_country:\n",
    "    i=i+1\n",
    "    for yval in range(i,len(list_country)):\n",
    "        if list_country[yval] != xval:\n",
    "            print(xval + \" vs \" + list_country[yval])"
   ]
  },
  {
   "cell_type": "code",
   "execution_count": 83,
   "metadata": {},
   "outputs": [
    {
     "data": {
      "text/plain": [
       "'Ind'"
      ]
     },
     "execution_count": 83,
     "metadata": {},
     "output_type": "execute_result"
    }
   ],
   "source": [
    "list_country[1]"
   ]
  },
  {
   "cell_type": "code",
   "execution_count": null,
   "metadata": {},
   "outputs": [],
   "source": []
  },
  {
   "cell_type": "code",
   "execution_count": null,
   "metadata": {},
   "outputs": [],
   "source": []
  },
  {
   "cell_type": "code",
   "execution_count": null,
   "metadata": {},
   "outputs": [],
   "source": []
  }
 ],
 "metadata": {
  "kernelspec": {
   "display_name": "Python 3",
   "language": "python",
   "name": "python3"
  },
  "language_info": {
   "codemirror_mode": {
    "name": "ipython",
    "version": 3
   },
   "file_extension": ".py",
   "mimetype": "text/x-python",
   "name": "python",
   "nbconvert_exporter": "python",
   "pygments_lexer": "ipython3",
   "version": "3.8.8"
  }
 },
 "nbformat": 4,
 "nbformat_minor": 4
}
